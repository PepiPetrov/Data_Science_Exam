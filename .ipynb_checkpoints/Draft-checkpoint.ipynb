{
 "cells": [
  {
   "cell_type": "markdown",
   "id": "cb09837a",
   "metadata": {
    "papermill": {
     "duration": 0.020825,
     "end_time": "2021-12-08T06:05:08.360373",
     "exception": false,
     "start_time": "2021-12-08T06:05:08.339548",
     "status": "completed"
    },
    "tags": []
   },
   "source": [
    "### About the Dataset:\n",
    "\n",
    "1. id: unique id for a news article\n",
    "2. title: the title of a news article\n",
    "3. author: author of the news article\n",
    "4. text: the text of the article; could be incomplete\n",
    "5. label: a label that marks whether the news article is real or fake:\n",
    "           1: Fake news\n",
    "           0: Real News"
   ]
  },
  {
   "cell_type": "code",
   "execution_count": 2,
   "id": "eba7ea4c",
   "metadata": {
    "execution": {
     "iopub.execute_input": "2021-12-08T06:05:08.448004Z",
     "iopub.status.busy": "2021-12-08T06:05:08.447336Z",
     "iopub.status.idle": "2021-12-08T06:05:10.410568Z",
     "shell.execute_reply": "2021-12-08T06:05:10.411148Z",
     "shell.execute_reply.started": "2021-12-08T06:00:07.462234Z"
    },
    "papermill": {
     "duration": 1.991732,
     "end_time": "2021-12-08T06:05:10.411521",
     "exception": false,
     "start_time": "2021-12-08T06:05:08.419789",
     "status": "completed"
    },
    "tags": []
   },
   "outputs": [],
   "source": [
    "import re\n",
    "\n",
    "import numpy as np\n",
    "import matplotlib.pyplot as plt\n",
    "\n",
    "import pandas as pd\n",
    "\n",
    "import itertools\n",
    "import time"
   ]
  },
  {
   "cell_type": "code",
   "execution_count": 97,
   "id": "097406b9",
   "metadata": {},
   "outputs": [],
   "source": [
    "from sklearn.feature_extraction.text import TfidfVectorizer\n",
    "\n",
    "from sklearn.tree import DecisionTreeClassifier, plot_tree, ExtraTreeClassifier\n",
    "\n",
    "from sklearn.linear_model import PassiveAggressiveClassifier, SGDClassifier, RidgeClassifier, LogisticRegression, Perceptron \n",
    "from sklearn.neural_network import MLPClassifier\n",
    "\n",
    "\n",
    "from sklearn.ensemble import RandomForestClassifier, AdaBoostClassifier, BaggingClassifier, VotingClassifier, StackingClassifier\n",
    "\n",
    "from sklearn.ensemble import GradientBoostingClassifier\n",
    "\n",
    "from sklearn.svm import LinearSVC\n",
    "\n",
    "from sklearn.neighbors import KNeighborsClassifier, RadiusNeighborsClassifier\n",
    "from sklearn.cluster import KMeans\n",
    "\n",
    "from sklearn.naive_bayes import MultinomialNB\n",
    "\n",
    "from sklearn.model_selection import train_test_split, GridSearchCV, cross_val_score\n",
    "from sklearn.metrics import accuracy_score, classification_report, confusion_matrix\n",
    "\n",
    "from sklearn.calibration import CalibratedClassifierCV"
   ]
  },
  {
   "cell_type": "code",
   "execution_count": 6,
   "id": "39b72784",
   "metadata": {},
   "outputs": [
    {
     "name": "stderr",
     "output_type": "stream",
     "text": [
      "[nltk_data] Downloading package stopwords to\n",
      "[nltk_data]     C:\\Users\\pepi_\\AppData\\Roaming\\nltk_data...\n",
      "[nltk_data]   Package stopwords is already up-to-date!\n"
     ]
    },
    {
     "data": {
      "text/plain": [
       "True"
      ]
     },
     "execution_count": 6,
     "metadata": {},
     "output_type": "execute_result"
    }
   ],
   "source": [
    "import nltk\n",
    "from nltk.corpus import stopwords\n",
    "from nltk.stem.porter import PorterStemmer\n",
    "\n",
    "from wordcloud import WordCloud, STOPWORDS\n",
    "\n",
    "nltk.download('stopwords')"
   ]
  },
  {
   "cell_type": "code",
   "execution_count": 7,
   "id": "e141f921",
   "metadata": {
    "execution": {
     "iopub.execute_input": "2021-12-08T06:05:10.459980Z",
     "iopub.status.busy": "2021-12-08T06:05:10.459294Z",
     "iopub.status.idle": "2021-12-08T06:05:13.330245Z",
     "shell.execute_reply": "2021-12-08T06:05:13.329589Z",
     "shell.execute_reply.started": "2021-12-08T06:00:09.422343Z"
    },
    "papermill": {
     "duration": 2.898224,
     "end_time": "2021-12-08T06:05:13.330443",
     "exception": false,
     "start_time": "2021-12-08T06:05:10.432219",
     "status": "completed"
    },
    "tags": []
   },
   "outputs": [],
   "source": [
    "news_dataset = pd.read_csv('data/fake-news/train.csv')"
   ]
  },
  {
   "cell_type": "code",
   "execution_count": 8,
   "id": "075f31e3",
   "metadata": {
    "execution": {
     "iopub.execute_input": "2021-12-08T06:05:13.379572Z",
     "iopub.status.busy": "2021-12-08T06:05:13.378926Z",
     "iopub.status.idle": "2021-12-08T06:05:13.394847Z",
     "shell.execute_reply": "2021-12-08T06:05:13.395349Z",
     "shell.execute_reply.started": "2021-12-08T06:00:12.381076Z"
    },
    "papermill": {
     "duration": 0.044848,
     "end_time": "2021-12-08T06:05:13.395550",
     "exception": false,
     "start_time": "2021-12-08T06:05:13.350702",
     "status": "completed"
    },
    "scrolled": false,
    "tags": []
   },
   "outputs": [
    {
     "data": {
      "text/html": [
       "<div>\n",
       "<style scoped>\n",
       "    .dataframe tbody tr th:only-of-type {\n",
       "        vertical-align: middle;\n",
       "    }\n",
       "\n",
       "    .dataframe tbody tr th {\n",
       "        vertical-align: top;\n",
       "    }\n",
       "\n",
       "    .dataframe thead th {\n",
       "        text-align: right;\n",
       "    }\n",
       "</style>\n",
       "<table border=\"1\" class=\"dataframe\">\n",
       "  <thead>\n",
       "    <tr style=\"text-align: right;\">\n",
       "      <th></th>\n",
       "      <th>id</th>\n",
       "      <th>title</th>\n",
       "      <th>author</th>\n",
       "      <th>text</th>\n",
       "      <th>label</th>\n",
       "    </tr>\n",
       "  </thead>\n",
       "  <tbody>\n",
       "    <tr>\n",
       "      <th>0</th>\n",
       "      <td>0</td>\n",
       "      <td>House Dem Aide: We Didn’t Even See Comey’s Let...</td>\n",
       "      <td>Darrell Lucus</td>\n",
       "      <td>House Dem Aide: We Didn’t Even See Comey’s Let...</td>\n",
       "      <td>1</td>\n",
       "    </tr>\n",
       "    <tr>\n",
       "      <th>1</th>\n",
       "      <td>1</td>\n",
       "      <td>FLYNN: Hillary Clinton, Big Woman on Campus - ...</td>\n",
       "      <td>Daniel J. Flynn</td>\n",
       "      <td>Ever get the feeling your life circles the rou...</td>\n",
       "      <td>0</td>\n",
       "    </tr>\n",
       "    <tr>\n",
       "      <th>2</th>\n",
       "      <td>2</td>\n",
       "      <td>Why the Truth Might Get You Fired</td>\n",
       "      <td>Consortiumnews.com</td>\n",
       "      <td>Why the Truth Might Get You Fired October 29, ...</td>\n",
       "      <td>1</td>\n",
       "    </tr>\n",
       "    <tr>\n",
       "      <th>3</th>\n",
       "      <td>3</td>\n",
       "      <td>15 Civilians Killed In Single US Airstrike Hav...</td>\n",
       "      <td>Jessica Purkiss</td>\n",
       "      <td>Videos 15 Civilians Killed In Single US Airstr...</td>\n",
       "      <td>1</td>\n",
       "    </tr>\n",
       "    <tr>\n",
       "      <th>4</th>\n",
       "      <td>4</td>\n",
       "      <td>Iranian woman jailed for fictional unpublished...</td>\n",
       "      <td>Howard Portnoy</td>\n",
       "      <td>Print \\nAn Iranian woman has been sentenced to...</td>\n",
       "      <td>1</td>\n",
       "    </tr>\n",
       "  </tbody>\n",
       "</table>\n",
       "</div>"
      ],
      "text/plain": [
       "   id                                              title              author  \\\n",
       "0   0  House Dem Aide: We Didn’t Even See Comey’s Let...       Darrell Lucus   \n",
       "1   1  FLYNN: Hillary Clinton, Big Woman on Campus - ...     Daniel J. Flynn   \n",
       "2   2                  Why the Truth Might Get You Fired  Consortiumnews.com   \n",
       "3   3  15 Civilians Killed In Single US Airstrike Hav...     Jessica Purkiss   \n",
       "4   4  Iranian woman jailed for fictional unpublished...      Howard Portnoy   \n",
       "\n",
       "                                                text  label  \n",
       "0  House Dem Aide: We Didn’t Even See Comey’s Let...      1  \n",
       "1  Ever get the feeling your life circles the rou...      0  \n",
       "2  Why the Truth Might Get You Fired October 29, ...      1  \n",
       "3  Videos 15 Civilians Killed In Single US Airstr...      1  \n",
       "4  Print \\nAn Iranian woman has been sentenced to...      1  "
      ]
     },
     "execution_count": 8,
     "metadata": {},
     "output_type": "execute_result"
    }
   ],
   "source": [
    "news_dataset.head()"
   ]
  },
  {
   "cell_type": "markdown",
   "id": "295ed848",
   "metadata": {
    "papermill": {
     "duration": 0.020321,
     "end_time": "2021-12-08T06:05:13.436578",
     "exception": false,
     "start_time": "2021-12-08T06:05:13.416257",
     "status": "completed"
    },
    "tags": []
   },
   "source": [
    "# EDA"
   ]
  },
  {
   "cell_type": "code",
   "execution_count": 9,
   "id": "90f1ab5e",
   "metadata": {
    "execution": {
     "iopub.execute_input": "2021-12-08T06:05:13.485337Z",
     "iopub.status.busy": "2021-12-08T06:05:13.484648Z",
     "iopub.status.idle": "2021-12-08T06:05:13.490593Z",
     "shell.execute_reply": "2021-12-08T06:05:13.490140Z",
     "shell.execute_reply.started": "2021-12-08T06:00:12.407235Z"
    },
    "papermill": {
     "duration": 0.032263,
     "end_time": "2021-12-08T06:05:13.490738",
     "exception": false,
     "start_time": "2021-12-08T06:05:13.458475",
     "status": "completed"
    },
    "tags": []
   },
   "outputs": [
    {
     "data": {
      "text/plain": [
       "(20800, 5)"
      ]
     },
     "execution_count": 9,
     "metadata": {},
     "output_type": "execute_result"
    }
   ],
   "source": [
    "news_dataset.shape"
   ]
  },
  {
   "cell_type": "code",
   "execution_count": 10,
   "id": "9b89f254",
   "metadata": {
    "execution": {
     "iopub.execute_input": "2021-12-08T06:05:13.549975Z",
     "iopub.status.busy": "2021-12-08T06:05:13.546979Z",
     "iopub.status.idle": "2021-12-08T06:05:13.552622Z",
     "shell.execute_reply": "2021-12-08T06:05:13.553089Z",
     "shell.execute_reply.started": "2021-12-08T06:00:12.414408Z"
    },
    "papermill": {
     "duration": 0.041294,
     "end_time": "2021-12-08T06:05:13.553276",
     "exception": false,
     "start_time": "2021-12-08T06:05:13.511982",
     "status": "completed"
    },
    "scrolled": false,
    "tags": []
   },
   "outputs": [
    {
     "data": {
      "text/plain": [
       "id           0\n",
       "title      558\n",
       "author    1957\n",
       "text        39\n",
       "label        0\n",
       "dtype: int64"
      ]
     },
     "execution_count": 10,
     "metadata": {},
     "output_type": "execute_result"
    }
   ],
   "source": [
    "news_dataset.isnull().sum()"
   ]
  },
  {
   "cell_type": "code",
   "execution_count": 11,
   "id": "91b0546b",
   "metadata": {
    "scrolled": true
   },
   "outputs": [
    {
     "data": {
      "text/plain": [
       "1    10413\n",
       "0    10387\n",
       "Name: label, dtype: int64"
      ]
     },
     "execution_count": 11,
     "metadata": {},
     "output_type": "execute_result"
    }
   ],
   "source": [
    "news_dataset.label.value_counts()"
   ]
  },
  {
   "cell_type": "code",
   "execution_count": 12,
   "id": "10863269",
   "metadata": {},
   "outputs": [],
   "source": [
    "news_dataset = news_dataset.fillna(value = {\"title\": \"\", \"author\": \"\", \"text\": \"\"})"
   ]
  },
  {
   "cell_type": "code",
   "execution_count": 13,
   "id": "f511ecaa",
   "metadata": {},
   "outputs": [
    {
     "data": {
      "text/plain": [
       "id        False\n",
       "title     False\n",
       "author    False\n",
       "text      False\n",
       "label     False\n",
       "dtype: bool"
      ]
     },
     "execution_count": 13,
     "metadata": {},
     "output_type": "execute_result"
    }
   ],
   "source": [
    "news_dataset.isna().any()"
   ]
  },
  {
   "cell_type": "code",
   "execution_count": 14,
   "id": "6f3f28cf",
   "metadata": {
    "execution": {
     "iopub.execute_input": "2021-12-08T06:05:13.667257Z",
     "iopub.status.busy": "2021-12-08T06:05:13.664451Z",
     "iopub.status.idle": "2021-12-08T06:05:13.679469Z",
     "shell.execute_reply": "2021-12-08T06:05:13.678920Z",
     "shell.execute_reply.started": "2021-12-08T06:00:12.467675Z"
    },
    "papermill": {
     "duration": 0.044265,
     "end_time": "2021-12-08T06:05:13.679623",
     "exception": false,
     "start_time": "2021-12-08T06:05:13.635358",
     "status": "completed"
    },
    "tags": []
   },
   "outputs": [],
   "source": [
    "news_dataset['data'] = news_dataset['author']+' '+news_dataset['title']"
   ]
  },
  {
   "cell_type": "code",
   "execution_count": 15,
   "id": "6d1dc82c",
   "metadata": {
    "execution": {
     "iopub.execute_input": "2021-12-08T06:05:13.727815Z",
     "iopub.status.busy": "2021-12-08T06:05:13.727222Z",
     "iopub.status.idle": "2021-12-08T06:05:13.734418Z",
     "shell.execute_reply": "2021-12-08T06:05:13.733544Z",
     "shell.execute_reply.started": "2021-12-08T06:00:12.494988Z"
    },
    "papermill": {
     "duration": 0.033876,
     "end_time": "2021-12-08T06:05:13.734662",
     "exception": false,
     "start_time": "2021-12-08T06:05:13.700786",
     "status": "completed"
    },
    "tags": []
   },
   "outputs": [
    {
     "name": "stdout",
     "output_type": "stream",
     "text": [
      "0        Darrell Lucus House Dem Aide: We Didn’t Even S...\n",
      "1        Daniel J. Flynn FLYNN: Hillary Clinton, Big Wo...\n",
      "2        Consortiumnews.com Why the Truth Might Get You...\n",
      "3        Jessica Purkiss 15 Civilians Killed In Single ...\n",
      "4        Howard Portnoy Iranian woman jailed for fictio...\n",
      "                               ...                        \n",
      "20795    Jerome Hudson Rapper T.I.: Trump a ’Poster Chi...\n",
      "20796    Benjamin Hoffman N.F.L. Playoffs: Schedule, Ma...\n",
      "20797    Michael J. de la Merced and Rachel Abrams Macy...\n",
      "20798    Alex Ansary NATO, Russia To Hold Parallel Exer...\n",
      "20799              David Swanson What Keeps the F-35 Alive\n",
      "Name: data, Length: 20800, dtype: object\n"
     ]
    }
   ],
   "source": [
    "print(news_dataset['data'])"
   ]
  },
  {
   "cell_type": "code",
   "execution_count": 16,
   "id": "b459479d",
   "metadata": {},
   "outputs": [
    {
     "data": {
      "text/html": [
       "<div>\n",
       "<style scoped>\n",
       "    .dataframe tbody tr th:only-of-type {\n",
       "        vertical-align: middle;\n",
       "    }\n",
       "\n",
       "    .dataframe tbody tr th {\n",
       "        vertical-align: top;\n",
       "    }\n",
       "\n",
       "    .dataframe thead th {\n",
       "        text-align: right;\n",
       "    }\n",
       "</style>\n",
       "<table border=\"1\" class=\"dataframe\">\n",
       "  <thead>\n",
       "    <tr style=\"text-align: right;\">\n",
       "      <th></th>\n",
       "      <th>id</th>\n",
       "      <th>title</th>\n",
       "      <th>author</th>\n",
       "      <th>text</th>\n",
       "      <th>label</th>\n",
       "      <th>data</th>\n",
       "    </tr>\n",
       "  </thead>\n",
       "  <tbody>\n",
       "  </tbody>\n",
       "</table>\n",
       "</div>"
      ],
      "text/plain": [
       "Empty DataFrame\n",
       "Columns: [id, title, author, text, label, data]\n",
       "Index: []"
      ]
     },
     "execution_count": 16,
     "metadata": {},
     "output_type": "execute_result"
    }
   ],
   "source": [
    "news_dataset[news_dataset[\"data\"] == \"\"]"
   ]
  },
  {
   "cell_type": "code",
   "execution_count": 17,
   "id": "96eec342",
   "metadata": {
    "execution": {
     "iopub.execute_input": "2021-12-08T06:05:13.781809Z",
     "iopub.status.busy": "2021-12-08T06:05:13.781159Z",
     "iopub.status.idle": "2021-12-08T06:05:13.800521Z",
     "shell.execute_reply": "2021-12-08T06:05:13.799952Z",
     "shell.execute_reply.started": "2021-12-08T06:00:12.507343Z"
    },
    "papermill": {
     "duration": 0.044433,
     "end_time": "2021-12-08T06:05:13.800683",
     "exception": false,
     "start_time": "2021-12-08T06:05:13.756250",
     "status": "completed"
    },
    "tags": []
   },
   "outputs": [],
   "source": [
    "X = news_dataset.drop(columns='label', axis=1)\n",
    "Y = news_dataset['label']"
   ]
  },
  {
   "cell_type": "code",
   "execution_count": 18,
   "id": "8a014f14",
   "metadata": {},
   "outputs": [
    {
     "data": {
      "text/plain": [
       "20800"
      ]
     },
     "execution_count": 18,
     "metadata": {},
     "output_type": "execute_result"
    }
   ],
   "source": [
    "len(news_dataset)"
   ]
  },
  {
   "cell_type": "code",
   "execution_count": 19,
   "id": "1b51a420",
   "metadata": {
    "scrolled": true
   },
   "outputs": [
    {
     "data": {
      "text/plain": [
       "10413"
      ]
     },
     "execution_count": 19,
     "metadata": {},
     "output_type": "execute_result"
    }
   ],
   "source": [
    "len(news_dataset[news_dataset.label == 1])"
   ]
  },
  {
   "cell_type": "code",
   "execution_count": 20,
   "id": "910ce5f4",
   "metadata": {},
   "outputs": [
    {
     "data": {
      "text/plain": [
       "10387"
      ]
     },
     "execution_count": 20,
     "metadata": {},
     "output_type": "execute_result"
    }
   ],
   "source": [
    "len(news_dataset[news_dataset.label == 0])"
   ]
  },
  {
   "cell_type": "code",
   "execution_count": 21,
   "id": "db8f80be",
   "metadata": {
    "execution": {
     "iopub.execute_input": "2021-12-08T06:05:13.855533Z",
     "iopub.status.busy": "2021-12-08T06:05:13.854803Z",
     "iopub.status.idle": "2021-12-08T06:05:13.858086Z",
     "shell.execute_reply": "2021-12-08T06:05:13.858778Z",
     "shell.execute_reply.started": "2021-12-08T06:00:12.538935Z"
    },
    "papermill": {
     "duration": 0.036922,
     "end_time": "2021-12-08T06:05:13.859056",
     "exception": false,
     "start_time": "2021-12-08T06:05:13.822134",
     "status": "completed"
    },
    "scrolled": true,
    "tags": []
   },
   "outputs": [
    {
     "name": "stdout",
     "output_type": "stream",
     "text": [
      "          id                                              title  \\\n",
      "0          0  House Dem Aide: We Didn’t Even See Comey’s Let...   \n",
      "1          1  FLYNN: Hillary Clinton, Big Woman on Campus - ...   \n",
      "2          2                  Why the Truth Might Get You Fired   \n",
      "3          3  15 Civilians Killed In Single US Airstrike Hav...   \n",
      "4          4  Iranian woman jailed for fictional unpublished...   \n",
      "...      ...                                                ...   \n",
      "20795  20795  Rapper T.I.: Trump a ’Poster Child For White S...   \n",
      "20796  20796  N.F.L. Playoffs: Schedule, Matchups and Odds -...   \n",
      "20797  20797  Macy’s Is Said to Receive Takeover Approach by...   \n",
      "20798  20798  NATO, Russia To Hold Parallel Exercises In Bal...   \n",
      "20799  20799                          What Keeps the F-35 Alive   \n",
      "\n",
      "                                          author  \\\n",
      "0                                  Darrell Lucus   \n",
      "1                                Daniel J. Flynn   \n",
      "2                             Consortiumnews.com   \n",
      "3                                Jessica Purkiss   \n",
      "4                                 Howard Portnoy   \n",
      "...                                          ...   \n",
      "20795                              Jerome Hudson   \n",
      "20796                           Benjamin Hoffman   \n",
      "20797  Michael J. de la Merced and Rachel Abrams   \n",
      "20798                                Alex Ansary   \n",
      "20799                              David Swanson   \n",
      "\n",
      "                                                    text  \\\n",
      "0      House Dem Aide: We Didn’t Even See Comey’s Let...   \n",
      "1      Ever get the feeling your life circles the rou...   \n",
      "2      Why the Truth Might Get You Fired October 29, ...   \n",
      "3      Videos 15 Civilians Killed In Single US Airstr...   \n",
      "4      Print \\nAn Iranian woman has been sentenced to...   \n",
      "...                                                  ...   \n",
      "20795  Rapper T. I. unloaded on black celebrities who...   \n",
      "20796  When the Green Bay Packers lost to the Washing...   \n",
      "20797  The Macy’s of today grew from the union of sev...   \n",
      "20798  NATO, Russia To Hold Parallel Exercises In Bal...   \n",
      "20799    David Swanson is an author, activist, journa...   \n",
      "\n",
      "                                                    data  \n",
      "0      Darrell Lucus House Dem Aide: We Didn’t Even S...  \n",
      "1      Daniel J. Flynn FLYNN: Hillary Clinton, Big Wo...  \n",
      "2      Consortiumnews.com Why the Truth Might Get You...  \n",
      "3      Jessica Purkiss 15 Civilians Killed In Single ...  \n",
      "4      Howard Portnoy Iranian woman jailed for fictio...  \n",
      "...                                                  ...  \n",
      "20795  Jerome Hudson Rapper T.I.: Trump a ’Poster Chi...  \n",
      "20796  Benjamin Hoffman N.F.L. Playoffs: Schedule, Ma...  \n",
      "20797  Michael J. de la Merced and Rachel Abrams Macy...  \n",
      "20798  Alex Ansary NATO, Russia To Hold Parallel Exer...  \n",
      "20799            David Swanson What Keeps the F-35 Alive  \n",
      "\n",
      "[20800 rows x 5 columns] \n",
      "\n",
      "\n",
      "\n",
      " 0        1\n",
      "1        0\n",
      "2        1\n",
      "3        1\n",
      "4        1\n",
      "        ..\n",
      "20795    0\n",
      "20796    0\n",
      "20797    0\n",
      "20798    1\n",
      "20799    1\n",
      "Name: label, Length: 20800, dtype: int64\n"
     ]
    }
   ],
   "source": [
    "print(X,'\\n\\n\\n\\n',Y)"
   ]
  },
  {
   "cell_type": "markdown",
   "id": "db98c191",
   "metadata": {
    "papermill": {
     "duration": 0.021393,
     "end_time": "2021-12-08T06:05:13.903654",
     "exception": false,
     "start_time": "2021-12-08T06:05:13.882261",
     "status": "completed"
    },
    "tags": []
   },
   "source": [
    "# Stemming"
   ]
  },
  {
   "cell_type": "code",
   "execution_count": 22,
   "id": "6874abc4",
   "metadata": {
    "execution": {
     "iopub.execute_input": "2021-12-08T06:05:13.950647Z",
     "iopub.status.busy": "2021-12-08T06:05:13.950092Z",
     "iopub.status.idle": "2021-12-08T06:05:13.953938Z",
     "shell.execute_reply": "2021-12-08T06:05:13.954406Z",
     "shell.execute_reply.started": "2021-12-08T06:00:12.554635Z"
    },
    "papermill": {
     "duration": 0.029194,
     "end_time": "2021-12-08T06:05:13.954583",
     "exception": false,
     "start_time": "2021-12-08T06:05:13.925389",
     "status": "completed"
    },
    "tags": []
   },
   "outputs": [],
   "source": [
    "stem_words = PorterStemmer()"
   ]
  },
  {
   "cell_type": "code",
   "execution_count": 23,
   "id": "a541be05",
   "metadata": {
    "execution": {
     "iopub.execute_input": "2021-12-08T06:05:14.003041Z",
     "iopub.status.busy": "2021-12-08T06:05:14.002309Z",
     "iopub.status.idle": "2021-12-08T06:05:14.006764Z",
     "shell.execute_reply": "2021-12-08T06:05:14.007307Z",
     "shell.execute_reply.started": "2021-12-08T06:00:12.566989Z"
    },
    "papermill": {
     "duration": 0.031151,
     "end_time": "2021-12-08T06:05:14.007503",
     "exception": false,
     "start_time": "2021-12-08T06:05:13.976352",
     "status": "completed"
    },
    "tags": []
   },
   "outputs": [],
   "source": [
    "def stemming(data):\n",
    "    \n",
    "    stemmed_content = re.sub('[^a-zA-Z]',' ',data)\n",
    "    stemmed_content = stemmed_content.lower()\n",
    "    stemmed_content = stemmed_content.split()\n",
    "    stemmed_content = [stem_words.stem(word) for word in stemmed_content if not word in stopwords.words(\"english\")]\n",
    "    stemmed_content = ' '.join(stemmed_content)\n",
    "    \n",
    "    return stemmed_content"
   ]
  },
  {
   "cell_type": "code",
   "execution_count": 24,
   "id": "464176d7",
   "metadata": {
    "execution": {
     "iopub.execute_input": "2021-12-08T06:05:14.058187Z",
     "iopub.status.busy": "2021-12-08T06:05:14.057559Z",
     "iopub.status.idle": "2021-12-08T06:05:54.156801Z",
     "shell.execute_reply": "2021-12-08T06:05:54.157339Z",
     "shell.execute_reply.started": "2021-12-08T06:00:12.580919Z"
    },
    "papermill": {
     "duration": 40.128266,
     "end_time": "2021-12-08T06:05:54.157554",
     "exception": false,
     "start_time": "2021-12-08T06:05:14.029288",
     "status": "completed"
    },
    "tags": []
   },
   "outputs": [],
   "source": [
    "news_dataset['data'] = news_dataset['data'].apply(stemming)"
   ]
  },
  {
   "cell_type": "markdown",
   "id": "879a294f",
   "metadata": {
    "papermill": {
     "duration": 0.021502,
     "end_time": "2021-12-08T06:05:54.201163",
     "exception": false,
     "start_time": "2021-12-08T06:05:54.179661",
     "status": "completed"
    },
    "tags": []
   },
   "source": [
    "# Visualizing"
   ]
  },
  {
   "cell_type": "code",
   "execution_count": 25,
   "id": "fd80c8a1",
   "metadata": {
    "execution": {
     "iopub.execute_input": "2021-12-08T06:05:54.254818Z",
     "iopub.status.busy": "2021-12-08T06:05:54.251395Z",
     "iopub.status.idle": "2021-12-08T06:05:54.878910Z",
     "shell.execute_reply": "2021-12-08T06:05:54.879417Z",
     "shell.execute_reply.started": "2021-12-08T06:00:58.499213Z"
    },
    "papermill": {
     "duration": 0.656977,
     "end_time": "2021-12-08T06:05:54.879619",
     "exception": false,
     "start_time": "2021-12-08T06:05:54.222642",
     "status": "completed"
    },
    "tags": []
   },
   "outputs": [
    {
     "data": {
      "image/png": "[encoded data removed]",
      "text/plain": [
       "<Figure size 1080x720 with 1 Axes>"
      ]
     },
     "metadata": {
      "needs_background": "light"
     },
     "output_type": "display_data"
    }
   ],
   "source": [
    "wordcloud = WordCloud(\n",
    "                        background_color='black',\n",
    "                        stopwords=STOPWORDS,\n",
    "                        max_words=200, \n",
    "                        random_state=42).generate(str(news_dataset['data']))\n",
    "\n",
    "plt.figure(figsize=(15,10))\n",
    "plt.axis(\"off\")\n",
    "plt.title(\"Words frequented in text\", fontsize=15)\n",
    "plt.imshow(wordcloud.recolor(colormap= 'viridis' , random_state=42), alpha=0.98)\n",
    "plt.show()"
   ]
  },
  {
   "cell_type": "code",
   "execution_count": 26,
   "id": "afe2ce2d",
   "metadata": {
    "execution": {
     "iopub.execute_input": "2021-12-08T06:05:54.942860Z",
     "iopub.status.busy": "2021-12-08T06:05:54.942215Z",
     "iopub.status.idle": "2021-12-08T06:05:54.948088Z",
     "shell.execute_reply": "2021-12-08T06:05:54.948909Z",
     "shell.execute_reply.started": "2021-12-08T06:00:59.138648Z"
    },
    "papermill": {
     "duration": 0.039487,
     "end_time": "2021-12-08T06:05:54.949155",
     "exception": false,
     "start_time": "2021-12-08T06:05:54.909668",
     "status": "completed"
    },
    "scrolled": false,
    "tags": []
   },
   "outputs": [
    {
     "name": "stdout",
     "output_type": "stream",
     "text": [
      "0        darrel lucu hous dem aid even see comey letter...\n",
      "1        daniel j flynn flynn hillari clinton big woman...\n",
      "2                   consortiumnew com truth might get fire\n",
      "3        jessica purkiss civilian kill singl us airstri...\n",
      "4        howard portnoy iranian woman jail fiction unpu...\n",
      "                               ...                        \n",
      "20795    jerom hudson rapper trump poster child white s...\n",
      "20796    benjamin hoffman n f l playoff schedul matchup...\n",
      "20797    michael j de la merc rachel abram maci said re...\n",
      "20798    alex ansari nato russia hold parallel exercis ...\n",
      "20799                            david swanson keep f aliv\n",
      "Name: data, Length: 20800, dtype: object\n"
     ]
    }
   ],
   "source": [
    "print(news_dataset['data'])"
   ]
  },
  {
   "cell_type": "markdown",
   "id": "4f569260",
   "metadata": {
    "papermill": {
     "duration": 0.029607,
     "end_time": "2021-12-08T06:05:55.010942",
     "exception": false,
     "start_time": "2021-12-08T06:05:54.981335",
     "status": "completed"
    },
    "tags": []
   },
   "source": [
    "# Modelling"
   ]
  },
  {
   "cell_type": "code",
   "execution_count": 27,
   "id": "579b0bf2",
   "metadata": {},
   "outputs": [],
   "source": [
    "def plot_confusion_matrix(cm, classes,\n",
    "                          normalize=False,\n",
    "                          title='Confusion matrix',\n",
    "                          cmap=plt.cm.Blues):\n",
    "    \"\"\"\n",
    "    See full source and example: \n",
    "    http://scikit-learn.org/stable/auto_examples/model_selection/plot_confusion_matrix.html\n",
    "    \n",
    "    This function prints and plots the confusion matrix.\n",
    "    Normalization can be applied by setting `normalize=True`.\n",
    "    \"\"\"\n",
    "    plt.imshow(cm, interpolation='nearest', cmap=cmap)\n",
    "    plt.title(title)\n",
    "    plt.colorbar()\n",
    "    tick_marks = np.arange(len(classes))\n",
    "    plt.xticks(tick_marks, classes, rotation=45)\n",
    "    plt.yticks(tick_marks, classes)\n",
    "    \n",
    "    # Here we print the if confusion matrix is normalized\n",
    "    if normalize:\n",
    "        cm = cm.astype('float') / cm.sum(axis=1)[:, np.newaxis]\n",
    "        print(\"Normalized confusion matrix\")\n",
    "    else:\n",
    "        print('Confusion matrix, without normalization')\n",
    "\n",
    "    # Here we include text that shows confusion matrix values\n",
    "    thresh = cm.max() / 2.\n",
    "    for i, j in itertools.product(range(cm.shape[0]), range(cm.shape[1])):\n",
    "        plt.text(j, i, cm[i, j],\n",
    "                 horizontalalignment=\"center\",\n",
    "                 color=\"white\" if cm[i, j] > thresh else \"black\")\n",
    "\n",
    "    plt.tight_layout()\n",
    "    plt.ylabel('True label')\n",
    "    plt.xlabel('Predicted label')\n"
   ]
  },
  {
   "cell_type": "code",
   "execution_count": 28,
   "id": "a1c6e463",
   "metadata": {},
   "outputs": [],
   "source": [
    "def model_report(model, X_test, y_test):\n",
    "    pred = model.predict(X_test)\n",
    "\n",
    "    print(accuracy_score(y_test, pred) * 100)\n",
    "    print(classification_report(y_test, pred))\n",
    "\n",
    "    cm = confusion_matrix(y_test, pred)\n",
    "\n",
    "    plot_confusion_matrix(cm, classes=['Fake News', 'Real News'])"
   ]
  },
  {
   "cell_type": "code",
   "execution_count": 29,
   "id": "1cd58548",
   "metadata": {
    "execution": {
     "iopub.execute_input": "2021-12-08T06:05:55.080935Z",
     "iopub.status.busy": "2021-12-08T06:05:55.080153Z",
     "iopub.status.idle": "2021-12-08T06:05:55.083266Z",
     "shell.execute_reply": "2021-12-08T06:05:55.083790Z",
     "shell.execute_reply.started": "2021-12-08T06:00:59.148834Z"
    },
    "papermill": {
     "duration": 0.042514,
     "end_time": "2021-12-08T06:05:55.083998",
     "exception": false,
     "start_time": "2021-12-08T06:05:55.041484",
     "status": "completed"
    },
    "tags": []
   },
   "outputs": [],
   "source": [
    "X = news_dataset['data'].values\n",
    "Y = news_dataset['label'].values"
   ]
  },
  {
   "cell_type": "code",
   "execution_count": 30,
   "id": "46bb6fa6",
   "metadata": {
    "execution": {
     "iopub.execute_input": "2021-12-08T06:05:55.147863Z",
     "iopub.status.busy": "2021-12-08T06:05:55.147242Z",
     "iopub.status.idle": "2021-12-08T06:05:55.152881Z",
     "shell.execute_reply": "2021-12-08T06:05:55.153592Z",
     "shell.execute_reply.started": "2021-12-08T06:00:59.163634Z"
    },
    "papermill": {
     "duration": 0.040192,
     "end_time": "2021-12-08T06:05:55.154042",
     "exception": false,
     "start_time": "2021-12-08T06:05:55.113850",
     "status": "completed"
    },
    "tags": []
   },
   "outputs": [
    {
     "name": "stdout",
     "output_type": "stream",
     "text": [
      "['darrel lucu hous dem aid even see comey letter jason chaffetz tweet'\n",
      " 'daniel j flynn flynn hillari clinton big woman campu breitbart'\n",
      " 'consortiumnew com truth might get fire' ...\n",
      " 'michael j de la merc rachel abram maci said receiv takeov approach hudson bay new york time'\n",
      " 'alex ansari nato russia hold parallel exercis balkan'\n",
      " 'david swanson keep f aliv'] \n",
      "\n",
      "\n",
      "\n",
      " [1 0 1 ... 0 1 1]\n"
     ]
    }
   ],
   "source": [
    "print(X,'\\n\\n\\n\\n',Y)"
   ]
  },
  {
   "cell_type": "code",
   "execution_count": 31,
   "id": "0e4e922d",
   "metadata": {
    "execution": {
     "iopub.execute_input": "2021-12-08T06:05:55.221042Z",
     "iopub.status.busy": "2021-12-08T06:05:55.220051Z",
     "iopub.status.idle": "2021-12-08T06:05:55.743965Z",
     "shell.execute_reply": "2021-12-08T06:05:55.744533Z",
     "shell.execute_reply.started": "2021-12-08T06:00:59.180699Z"
    },
    "papermill": {
     "duration": 0.558812,
     "end_time": "2021-12-08T06:05:55.744726",
     "exception": false,
     "start_time": "2021-12-08T06:05:55.185914",
     "status": "completed"
    },
    "tags": []
   },
   "outputs": [],
   "source": [
    "vectorizer = TfidfVectorizer()\n",
    "\n",
    "vectorizer.fit(X)\n",
    "\n",
    "X = vectorizer.transform(X)"
   ]
  },
  {
   "cell_type": "code",
   "execution_count": 32,
   "id": "f75622fa",
   "metadata": {
    "execution": {
     "iopub.execute_input": "2021-12-08T06:05:55.809970Z",
     "iopub.status.busy": "2021-12-08T06:05:55.807515Z",
     "iopub.status.idle": "2021-12-08T06:05:55.828456Z",
     "shell.execute_reply": "2021-12-08T06:05:55.829006Z",
     "shell.execute_reply.started": "2021-12-08T06:00:59.945722Z"
    },
    "papermill": {
     "duration": 0.054459,
     "end_time": "2021-12-08T06:05:55.829205",
     "exception": false,
     "start_time": "2021-12-08T06:05:55.774746",
     "status": "completed"
    },
    "tags": []
   },
   "outputs": [],
   "source": [
    "X_train, X_test, Y_train, Y_test = train_test_split(X, Y, test_size = 0.1, stratify=Y, random_state=42)"
   ]
  },
  {
   "cell_type": "code",
   "execution_count": null,
   "id": "8ce4fa98",
   "metadata": {
    "execution": {
     "iopub.execute_input": "2021-12-08T06:05:55.897329Z",
     "iopub.status.busy": "2021-12-08T06:05:55.896299Z",
     "iopub.status.idle": "2021-12-08T06:05:56.482578Z",
     "shell.execute_reply": "2021-12-08T06:05:56.483558Z",
     "shell.execute_reply.started": "2021-12-08T06:00:59.976354Z"
    },
    "papermill": {
     "duration": 0.624568,
     "end_time": "2021-12-08T06:05:56.484291",
     "exception": false,
     "start_time": "2021-12-08T06:05:55.859723",
     "status": "completed"
    },
    "tags": []
   },
   "outputs": [],
   "source": [
    "model = LogisticRegression()\n",
    "model.fit(X_train, Y_train)"
   ]
  },
  {
   "cell_type": "markdown",
   "id": "18d837c2",
   "metadata": {
    "papermill": {
     "duration": 0.048104,
     "end_time": "2021-12-08T06:05:56.602109",
     "exception": false,
     "start_time": "2021-12-08T06:05:56.554005",
     "status": "completed"
    },
    "tags": []
   },
   "source": [
    "# Accuracy Check"
   ]
  },
  {
   "cell_type": "markdown",
   "id": "3c468bd7",
   "metadata": {
    "papermill": {
     "duration": 0.030245,
     "end_time": "2021-12-08T06:05:56.662970",
     "exception": false,
     "start_time": "2021-12-08T06:05:56.632725",
     "status": "completed"
    },
    "tags": []
   },
   "source": [
    "### Training Accuracy "
   ]
  },
  {
   "cell_type": "code",
   "execution_count": null,
   "id": "64422761",
   "metadata": {
    "execution": {
     "iopub.execute_input": "2021-12-08T06:05:56.730486Z",
     "iopub.status.busy": "2021-12-08T06:05:56.729333Z",
     "iopub.status.idle": "2021-12-08T06:05:56.734748Z",
     "shell.execute_reply": "2021-12-08T06:05:56.735346Z",
     "shell.execute_reply.started": "2021-12-08T06:01:00.488829Z"
    },
    "papermill": {
     "duration": 0.041994,
     "end_time": "2021-12-08T06:05:56.735559",
     "exception": false,
     "start_time": "2021-12-08T06:05:56.693565",
     "status": "completed"
    },
    "tags": []
   },
   "outputs": [],
   "source": [
    "X_train_prediction = model.predict(X_train)\n",
    "training_data_accuracy = accuracy_score(X_train_prediction, Y_train)"
   ]
  },
  {
   "cell_type": "code",
   "execution_count": null,
   "id": "c638a757",
   "metadata": {
    "execution": {
     "iopub.execute_input": "2021-12-08T06:05:56.801761Z",
     "iopub.status.busy": "2021-12-08T06:05:56.800669Z",
     "iopub.status.idle": "2021-12-08T06:05:56.806780Z",
     "shell.execute_reply": "2021-12-08T06:05:56.807305Z",
     "shell.execute_reply.started": "2021-12-08T06:01:00.503087Z"
    },
    "papermill": {
     "duration": 0.041564,
     "end_time": "2021-12-08T06:05:56.807529",
     "exception": false,
     "start_time": "2021-12-08T06:05:56.765965",
     "status": "completed"
    },
    "tags": []
   },
   "outputs": [],
   "source": [
    "print('Accuracy score of the training data : ', training_data_accuracy)"
   ]
  },
  {
   "cell_type": "markdown",
   "id": "82c2bc1a",
   "metadata": {
    "papermill": {
     "duration": 0.030697,
     "end_time": "2021-12-08T06:05:56.870002",
     "exception": false,
     "start_time": "2021-12-08T06:05:56.839305",
     "status": "completed"
    },
    "tags": []
   },
   "source": [
    "### Testing Accuracy "
   ]
  },
  {
   "cell_type": "code",
   "execution_count": null,
   "id": "3fdaf07c",
   "metadata": {
    "execution": {
     "iopub.execute_input": "2021-12-08T06:05:56.935130Z",
     "iopub.status.busy": "2021-12-08T06:05:56.934420Z",
     "iopub.status.idle": "2021-12-08T06:05:56.939532Z",
     "shell.execute_reply": "2021-12-08T06:05:56.940084Z",
     "shell.execute_reply.started": "2021-12-08T06:03:39.029688Z"
    },
    "papermill": {
     "duration": 0.039028,
     "end_time": "2021-12-08T06:05:56.940272",
     "exception": false,
     "start_time": "2021-12-08T06:05:56.901244",
     "status": "completed"
    },
    "tags": []
   },
   "outputs": [],
   "source": [
    "X_test_prediction = model.predict(X_test)\n",
    "test_data_accuracy = accuracy_score(X_test_prediction, Y_test)"
   ]
  },
  {
   "cell_type": "code",
   "execution_count": null,
   "id": "4a898548",
   "metadata": {
    "execution": {
     "iopub.execute_input": "2021-12-08T06:05:57.005139Z",
     "iopub.status.busy": "2021-12-08T06:05:57.004417Z",
     "iopub.status.idle": "2021-12-08T06:05:57.008811Z",
     "shell.execute_reply": "2021-12-08T06:05:57.009319Z",
     "shell.execute_reply.started": "2021-12-08T06:03:43.935054Z"
    },
    "papermill": {
     "duration": 0.038674,
     "end_time": "2021-12-08T06:05:57.009514",
     "exception": false,
     "start_time": "2021-12-08T06:05:56.970840",
     "status": "completed"
    },
    "scrolled": true,
    "tags": []
   },
   "outputs": [],
   "source": [
    "print('Accuracy score of the test data : ', test_data_accuracy)"
   ]
  },
  {
   "cell_type": "markdown",
   "id": "753c7803",
   "metadata": {
    "papermill": {
     "duration": 0.030668,
     "end_time": "2021-12-08T06:05:57.071099",
     "exception": false,
     "start_time": "2021-12-08T06:05:57.040431",
     "status": "completed"
    },
    "tags": []
   },
   "source": [
    "# Model Prediction"
   ]
  },
  {
   "cell_type": "code",
   "execution_count": null,
   "id": "aebacecb",
   "metadata": {
    "execution": {
     "iopub.execute_input": "2021-12-08T06:05:57.137979Z",
     "iopub.status.busy": "2021-12-08T06:05:57.137369Z",
     "iopub.status.idle": "2021-12-08T06:05:57.143113Z",
     "shell.execute_reply": "2021-12-08T06:05:57.143774Z",
     "shell.execute_reply.started": "2021-12-08T06:03:47.750373Z"
    },
    "papermill": {
     "duration": 0.040902,
     "end_time": "2021-12-08T06:05:57.143999",
     "exception": false,
     "start_time": "2021-12-08T06:05:57.103097",
     "status": "completed"
    },
    "tags": []
   },
   "outputs": [],
   "source": [
    "X_new = X_test[1]\n",
    "X_new_2 = X_test[0]\n",
    "\n",
    "X_New_3 = X_test[22]\n",
    "\n",
    "result = model.predict(X_new)\n",
    "result_1 = model.predict(X_new_2)\n",
    "\n",
    "\n",
    "def get_type(prediction):\n",
    "    if (prediction[0]==0):\n",
    "        return 'Real'\n",
    "    else:\n",
    "        return 'Fake'\n",
    "    \n",
    "print(f\"The news is {get_type(result)}\")\n",
    "print(f\"The news is {get_type(result_1)}\")"
   ]
  },
  {
   "cell_type": "code",
   "execution_count": null,
   "id": "be7faaa1",
   "metadata": {},
   "outputs": [],
   "source": [
    "model_report(model, X_test, Y_test)"
   ]
  },
  {
   "cell_type": "code",
   "execution_count": null,
   "id": "7c70f520",
   "metadata": {
    "execution": {
     "iopub.execute_input": "2021-12-08T06:05:57.209988Z",
     "iopub.status.busy": "2021-12-08T06:05:57.209269Z",
     "iopub.status.idle": "2021-12-08T06:05:57.213843Z",
     "shell.execute_reply": "2021-12-08T06:05:57.214391Z",
     "shell.execute_reply.started": "2021-12-08T06:03:48.015214Z"
    },
    "papermill": {
     "duration": 0.039311,
     "end_time": "2021-12-08T06:05:57.214581",
     "exception": false,
     "start_time": "2021-12-08T06:05:57.175270",
     "status": "completed"
    },
    "tags": []
   },
   "outputs": [],
   "source": [
    "print(Y_test[0])"
   ]
  },
  {
   "cell_type": "code",
   "execution_count": null,
   "id": "502c92e1",
   "metadata": {
    "scrolled": true
   },
   "outputs": [],
   "source": [
    "model2 = DecisionTreeClassifier(random_state = 42)\n",
    "model2.fit(X_train, Y_train)"
   ]
  },
  {
   "cell_type": "code",
   "execution_count": null,
   "id": "aa56b198",
   "metadata": {},
   "outputs": [],
   "source": [
    "X_test_prediction = model2.predict(X_test)\n",
    "test_data_accuracy = accuracy_score(X_test_prediction, Y_test)\n",
    "\n",
    "print('Accuracy score of the test data : ', test_data_accuracy)"
   ]
  },
  {
   "cell_type": "code",
   "execution_count": null,
   "id": "e90a6b1e",
   "metadata": {},
   "outputs": [],
   "source": [
    "X_train_prediction = model2.predict(X_train)\n",
    "training_data_accuracy = accuracy_score(X_train_prediction, Y_train)"
   ]
  },
  {
   "cell_type": "code",
   "execution_count": null,
   "id": "dd2e6bb8",
   "metadata": {},
   "outputs": [],
   "source": [
    "print('Accuracy score of the training data : ', training_data_accuracy)"
   ]
  },
  {
   "cell_type": "code",
   "execution_count": null,
   "id": "8dac65a2",
   "metadata": {},
   "outputs": [],
   "source": [
    "model2.score(X_test, Y_test)"
   ]
  },
  {
   "cell_type": "code",
   "execution_count": null,
   "id": "8f8b750e",
   "metadata": {},
   "outputs": [],
   "source": [
    "pa = PassiveAggressiveClassifier(n_iter_no_change= 50, loss = \"squared_hinge\")\n",
    "pa.fit(X_train, Y_train)"
   ]
  },
  {
   "cell_type": "code",
   "execution_count": null,
   "id": "2d9d6686",
   "metadata": {},
   "outputs": [],
   "source": [
    "model_report(pa, X_test, Y_test)"
   ]
  },
  {
   "cell_type": "code",
   "execution_count": null,
   "id": "f32b95ca",
   "metadata": {
    "scrolled": true
   },
   "outputs": [],
   "source": [
    "fig = plt.figure(figsize=(100, 100))\n",
    "\n",
    "ax = fig.gca()\n",
    "\n",
    "plot_tree(model2, ax=ax)\n",
    "\n",
    "plt.show()"
   ]
  },
  {
   "cell_type": "code",
   "execution_count": null,
   "id": "750e2ef5",
   "metadata": {
    "scrolled": true
   },
   "outputs": [],
   "source": [
    "plot_tree(model2, max_depth=1)\n",
    "\n",
    "plt.show()"
   ]
  },
  {
   "cell_type": "code",
   "execution_count": null,
   "id": "82102231",
   "metadata": {},
   "outputs": [],
   "source": [
    "parameters_PassiveAggressive = {'C': (0.6, 0.8, 1, 1.2, 1.4, 1.6, 1.8, 2.),\n",
    "                                'fit_intercept': (True, False),\n",
    "                                'n_iter_no_change': (1, 2, 3, 5, 8, 13, 21, 50),\n",
    "                                'shuffle': (True, False),\n",
    "                                'loss': ('hinge', 'squared_hinge'),\n",
    "                                'warm_start': (True, False)}\n"
   ]
  },
  {
   "cell_type": "code",
   "execution_count": null,
   "id": "67d8c398",
   "metadata": {},
   "outputs": [],
   "source": [
    "pa_params = GridSearchCV(PassiveAggressiveClassifier(), parameters_PassiveAggressive, n_jobs=-1, verbose=1)\n",
    "pa_params.fit(X_train, Y_train)"
   ]
  },
  {
   "cell_type": "code",
   "execution_count": null,
   "id": "01099caf",
   "metadata": {},
   "outputs": [],
   "source": [
    "pa_best = pa_params.best_estimator_\n",
    "\n",
    "pa_best.fit(X_train, Y_train)"
   ]
  },
  {
   "cell_type": "code",
   "execution_count": null,
   "id": "ba066fb7",
   "metadata": {},
   "outputs": [],
   "source": [
    "model_report(pa_best, X_test, Y_test)"
   ]
  },
  {
   "cell_type": "code",
   "execution_count": 37,
   "id": "1628a5b0",
   "metadata": {},
   "outputs": [],
   "source": [
    "additional_data = pd.read_csv(\"data/fake_or_real_news.csv\")\n",
    "\n",
    "\n",
    "additional_data = additional_data.rename(columns = {\"Unnamed: 0\": \"id\"})\n",
    "\n",
    "additional_data.label = additional_data.label.replace([\"REAL\", \"FAKE\"], [0, 1])\n",
    "\n",
    "\n",
    "labels = additional_data.label\n",
    "\n",
    "additional_data = additional_data.drop(columns=[\"label\"])\n",
    "\n",
    "additional_data[\"title\"] = additional_data[\"title\"].apply(stemming)"
   ]
  },
  {
   "cell_type": "code",
   "execution_count": 38,
   "id": "2fa0c304",
   "metadata": {},
   "outputs": [],
   "source": [
    "tfidf_v = TfidfVectorizer(max_features = 100000, ngram_range=(1,3))\n",
    "\n",
    "X_additional = tfidf_v.fit_transform(additional_data[\"title\"])"
   ]
  },
  {
   "cell_type": "code",
   "execution_count": 39,
   "id": "b5aafbc6",
   "metadata": {},
   "outputs": [],
   "source": [
    "X_additional_train, X_additional_test, y_additional_train, y_additional_test = train_test_split(X_additional, labels, random_state=0, test_size = 0.1, stratify = labels)"
   ]
  },
  {
   "cell_type": "code",
   "execution_count": null,
   "id": "84aedb1d",
   "metadata": {},
   "outputs": [],
   "source": [
    "model_report(pa, X_additional_test[:, :17128], y_additional_test[:17128])"
   ]
  },
  {
   "cell_type": "code",
   "execution_count": null,
   "id": "01122119",
   "metadata": {},
   "outputs": [],
   "source": [
    "tree_params = {'criterion': ['gini', 'entropy'], 'max_depth': [4, 5, 6, 7, 8, 9, 10, 11, 12, 15,\n",
    "                                                               20, 30, 40, 50, 70, 90, 120, 150], 'splitter': ['best', 'random'], 'random_state': [42, 256]}\n",
    "\n",
    "grid_search = GridSearchCV(DecisionTreeClassifier(), tree_params, cv = 5)\n",
    "\n",
    "grid_search.fit(X_train, Y_train)\n"
   ]
  },
  {
   "cell_type": "code",
   "execution_count": null,
   "id": "e7104a13",
   "metadata": {},
   "outputs": [],
   "source": [
    "best_tree_params = grid_search.best_params_"
   ]
  },
  {
   "cell_type": "code",
   "execution_count": null,
   "id": "cce2c227",
   "metadata": {},
   "outputs": [],
   "source": [
    "best_tree_params"
   ]
  },
  {
   "cell_type": "code",
   "execution_count": null,
   "id": "fbe93067",
   "metadata": {},
   "outputs": [],
   "source": [
    "tree = DecisionTreeClassifier(max_depth=70, random_state=256,splitter='best')\n",
    "\n",
    "tree.fit(X_train, Y_train)"
   ]
  },
  {
   "cell_type": "code",
   "execution_count": null,
   "id": "e153c04f",
   "metadata": {},
   "outputs": [],
   "source": [
    "model_report(tree, X_test, Y_test)"
   ]
  },
  {
   "cell_type": "code",
   "execution_count": null,
   "id": "9b962c31",
   "metadata": {},
   "outputs": [],
   "source": [
    "parameters_PassiveAggressive = {'C': (0.6, 0.8, 1, 1.2, 1.4, 1.6, 1.8, 2.),\n",
    "                                'fit_intercept': (True, False),\n",
    "                                'n_iter_no_change': (1, 2, 3, 5, 8, 13, 21, 50),\n",
    "                                'shuffle': (True, False),\n",
    "                                'loss': ('hinge', 'squared_hinge'),\n",
    "                                'warm_start': (True, False)}\n"
   ]
  },
  {
   "cell_type": "code",
   "execution_count": null,
   "id": "959751d2",
   "metadata": {},
   "outputs": [],
   "source": [
    "pa_params = GridSearchCV(PassiveAggressiveClassifier(), parameters_PassiveAggressive, cv = 10)\n",
    "pa_params.fit(X_train, Y_train)"
   ]
  },
  {
   "cell_type": "code",
   "execution_count": null,
   "id": "cb204ff9",
   "metadata": {
    "scrolled": true
   },
   "outputs": [],
   "source": [
    "pa_params.best_params_"
   ]
  },
  {
   "cell_type": "code",
   "execution_count": null,
   "id": "bf883b9d",
   "metadata": {},
   "outputs": [],
   "source": [
    "clf = BaggingClassifier(\n",
    "    base_estimator=PassiveAggressiveClassifier(n_iter_no_change=50, early_stopping=True, random_state = 42),\n",
    "    n_estimators = 1,\n",
    "    random_state = 42,\n",
    ").fit(X_train, Y_train)"
   ]
  },
  {
   "cell_type": "code",
   "execution_count": null,
   "id": "bba25a26",
   "metadata": {},
   "outputs": [],
   "source": [
    "model_report(clf, X_additional_test[:, :17128], y_additional_test)"
   ]
  },
  {
   "cell_type": "code",
   "execution_count": null,
   "id": "084e5edb",
   "metadata": {},
   "outputs": [],
   "source": [
    "perc = Perceptron()\n",
    "\n",
    "perc.fit(X_train, Y_train)"
   ]
  },
  {
   "cell_type": "code",
   "execution_count": null,
   "id": "ab642fbb",
   "metadata": {},
   "outputs": [],
   "source": [
    "model_report(perc, X_test, Y_test)"
   ]
  },
  {
   "cell_type": "code",
   "execution_count": null,
   "id": "deccc38d",
   "metadata": {},
   "outputs": [],
   "source": [
    "sgd = SGDClassifier(loss = 'squared_hinge', random_state = 42, warm_start = True, alpha = .0000000000000001)\n",
    "\n",
    "sgd.partial_fit(X_train, Y_train, classes = [0, 1])\n",
    "\n",
    "sgd.partial_fit(X_additional_train[:, :17128], y_additional_train)"
   ]
  },
  {
   "cell_type": "code",
   "execution_count": null,
   "id": "6abf7741",
   "metadata": {},
   "outputs": [],
   "source": [
    "model_report(sgd, X_test, Y_test)"
   ]
  },
  {
   "cell_type": "code",
   "execution_count": null,
   "id": "da762d89",
   "metadata": {},
   "outputs": [],
   "source": [
    "model_report(sgd, X_additional_test[:, :17128], y_additional_test)"
   ]
  },
  {
   "cell_type": "code",
   "execution_count": null,
   "id": "325833e5",
   "metadata": {},
   "outputs": [],
   "source": [
    "bag_pa = BaggingClassifier(PassiveAggressiveClassifier(random_state = 42), random_state = 42)\n",
    "\n",
    "bag_pa.fit(X_train, Y_train)"
   ]
  },
  {
   "cell_type": "code",
   "execution_count": null,
   "id": "fa2e1708",
   "metadata": {},
   "outputs": [],
   "source": [
    "cal_pa = CalibratedClassifierCV(bag_pa)\n",
    "\n",
    "cal_pa.fit(X_train, Y_train)"
   ]
  },
  {
   "cell_type": "code",
   "execution_count": null,
   "id": "c8612749",
   "metadata": {
    "scrolled": true
   },
   "outputs": [],
   "source": [
    "model_report(cal_pa, X_test, Y_test)"
   ]
  },
  {
   "cell_type": "code",
   "execution_count": null,
   "id": "f59d9100",
   "metadata": {
    "scrolled": true
   },
   "outputs": [],
   "source": [
    "model_report(cal_pa, X_additional_test[:, :17128], y_additional_test)"
   ]
  },
  {
   "cell_type": "code",
   "execution_count": null,
   "id": "cdbf8d08",
   "metadata": {},
   "outputs": [],
   "source": [
    "clf1 = BaggingClassifier(PassiveAggressiveClassifier(random_state = 42)).fit(X_train, Y_train)\n",
    "clf2 = BaggingClassifier(LogisticRegression(random_state = 42)).fit(X_train, Y_train)\n",
    "clf3 = BaggingClassifier(DecisionTreeClassifier(random_state = 42)).fit(X_train, Y_train)\n",
    "clf4 = BaggingClassifier(RidgeClassifier(random_state = 42)).fit(X_train, Y_train)\n",
    "clf5 = BaggingClassifier(SGDClassifier(random_state = 42)).fit(X_train, Y_train)\n",
    "clf6 = BaggingClassifier(Perceptron(random_state = 42)).fit(X_train, Y_train)\n",
    "clf7 = BaggingClassifier(RandomForestClassifier(n_estimators = 50, random_state = 42)).fit(X_train, Y_train)\n",
    "\n",
    "final_clf = BaggingClassifier(AdaBoostClassifier(random_state = 42)).fit(X_train, Y_train)"
   ]
  },
  {
   "cell_type": "code",
   "execution_count": null,
   "id": "a01f8730",
   "metadata": {},
   "outputs": [],
   "source": [
    "stack = StackingClassifier(\n",
    "    estimators = [\n",
    "        ('pa', clf1),\n",
    "        ('lgr', clf2),\n",
    "        ('tree', clf3),\n",
    "        ('ridge', clf4),\n",
    "        ('sgd', clf5),\n",
    "        ('perceptron', clf6),\n",
    "        ('f', clf7),\n",
    "    ],\n",
    "    final_estimator = final_clf,\n",
    "    stack_method = 'predict'\n",
    ")\n",
    "\n",
    "\n",
    "stack.fit(X_train, Y_train)"
   ]
  },
  {
   "cell_type": "code",
   "execution_count": null,
   "id": "80edc34e",
   "metadata": {
    "scrolled": true
   },
   "outputs": [],
   "source": [
    "model_report(stack, X_test, Y_test)"
   ]
  },
  {
   "cell_type": "code",
   "execution_count": null,
   "id": "9d7fc7e4",
   "metadata": {},
   "outputs": [],
   "source": [
    "model_report(stack, X_additional_test[:, :17128], y_additional_test)"
   ]
  },
  {
   "cell_type": "code",
   "execution_count": null,
   "id": "d2adea5b",
   "metadata": {},
   "outputs": [],
   "source": [
    "vote = VotingClassifier(\n",
    "    estimators = [\n",
    "        ('lgr', clf2),\n",
    "        ('tree', clf3),\n",
    "        ('sgd', clf5),\n",
    "        ('perceptron', clf6),\n",
    "        ('f', clf7),\n",
    "    ],\n",
    "    voting = 'soft'\n",
    ")\n",
    "\n",
    "vote.fit(X_train, Y_train)"
   ]
  },
  {
   "cell_type": "code",
   "execution_count": null,
   "id": "f4c530ea",
   "metadata": {},
   "outputs": [],
   "source": [
    "model_report(vote, X_test, Y_test)"
   ]
  },
  {
   "cell_type": "code",
   "execution_count": null,
   "id": "eb4743e4",
   "metadata": {},
   "outputs": [],
   "source": [
    "model_report(vote, X_additional_test[:, :17128], y_additional_test)"
   ]
  },
  {
   "cell_type": "code",
   "execution_count": null,
   "id": "e695b17b",
   "metadata": {},
   "outputs": [],
   "source": [
    "ada = BaggingClassifier(\n",
    "    AdaBoostClassifier(\n",
    "        LogisticRegression(),\n",
    "        random_state = 42,\n",
    "        n_estimators = 100,\n",
    "        learning_rate = 2\n",
    "    ),\n",
    "    random_state = 42\n",
    ").fit(X_train, Y_train)"
   ]
  },
  {
   "cell_type": "code",
   "execution_count": null,
   "id": "dfcdba0d",
   "metadata": {},
   "outputs": [],
   "source": [
    "ada.score(X_test, Y_test)"
   ]
  },
  {
   "cell_type": "code",
   "execution_count": null,
   "id": "4d31b9ef",
   "metadata": {},
   "outputs": [],
   "source": [
    "model_report(ada, X_additional_test[:, :17128], y_additional_test)"
   ]
  },
  {
   "cell_type": "markdown",
   "id": "73ad4668",
   "metadata": {},
   "source": [
    "Stacking"
   ]
  },
  {
   "cell_type": "code",
   "execution_count": 62,
   "id": "0ed9e076",
   "metadata": {},
   "outputs": [],
   "source": [
    "clf1 = BaggingClassifier(DecisionTreeClassifier(random_state = 42), random_state = 42).fit(X_train, Y_train)"
   ]
  },
  {
   "cell_type": "code",
   "execution_count": 63,
   "id": "4c1a5973",
   "metadata": {},
   "outputs": [],
   "source": [
    "clf2 = BaggingClassifier(SGDClassifier(random_state = 42), random_state = 42).fit(X_train, Y_train)"
   ]
  },
  {
   "cell_type": "code",
   "execution_count": 64,
   "id": "4950a231",
   "metadata": {},
   "outputs": [],
   "source": [
    "clf3 = BaggingClassifier(LogisticRegression(random_state = 42), random_state = 42).fit(X_train, Y_train)"
   ]
  },
  {
   "cell_type": "code",
   "execution_count": 65,
   "id": "e3c04e87",
   "metadata": {},
   "outputs": [],
   "source": [
    "clf4 = BaggingClassifier(Perceptron(random_state = 42), random_state = 42).fit(X_train, Y_train)"
   ]
  },
  {
   "cell_type": "code",
   "execution_count": 66,
   "id": "2c2c44c2",
   "metadata": {},
   "outputs": [],
   "source": [
    "clf5 = BaggingClassifier(RandomForestClassifier(random_state = 42), random_state = 42).fit(X_train, Y_train)"
   ]
  },
  {
   "cell_type": "code",
   "execution_count": 67,
   "id": "55367f77",
   "metadata": {},
   "outputs": [],
   "source": [
    "clf6 = BaggingClassifier(AdaBoostClassifier(random_state = 42), random_state = 42).fit(X_train, Y_train)"
   ]
  },
  {
   "cell_type": "code",
   "execution_count": 68,
   "id": "89caca9b",
   "metadata": {},
   "outputs": [],
   "source": [
    "clf7 = BaggingClassifier(PassiveAggressiveClassifier(random_state = 42), random_state = 42).fit(X_train, Y_train)"
   ]
  },
  {
   "cell_type": "code",
   "execution_count": 69,
   "id": "c15d6d67",
   "metadata": {},
   "outputs": [],
   "source": [
    "clf8 = BaggingClassifier(RidgeClassifier(random_state = 42), random_state = 42).fit(X_train, Y_train)"
   ]
  },
  {
   "cell_type": "code",
   "execution_count": 70,
   "id": "b411dfab",
   "metadata": {},
   "outputs": [],
   "source": [
    "clf9 = BaggingClassifier(KNeighborsClassifier(), random_state = 42).fit(X_train, Y_train)"
   ]
  },
  {
   "cell_type": "code",
   "execution_count": 71,
   "id": "930a3c5e",
   "metadata": {},
   "outputs": [],
   "source": [
    "clf10 = BaggingClassifier(LinearSVC(random_state = 42), random_state = 42).fit(X_train, Y_train)"
   ]
  },
  {
   "cell_type": "code",
   "execution_count": 72,
   "id": "247a41a4",
   "metadata": {},
   "outputs": [],
   "source": [
    "clf11 = BaggingClassifier(KMeans(n_clusters = 2, random_state = 42), random_state = 42).fit(X_train, Y_train)"
   ]
  },
  {
   "cell_type": "code",
   "execution_count": 73,
   "id": "0a531c2c",
   "metadata": {},
   "outputs": [],
   "source": [
    "clf12 = BaggingClassifier(MultinomialNB(), random_state = 42).fit(X_train, Y_train)"
   ]
  },
  {
   "cell_type": "code",
   "execution_count": 74,
   "id": "6e6abfff",
   "metadata": {},
   "outputs": [
    {
     "name": "stderr",
     "output_type": "stream",
     "text": [
      "C:\\Users\\pepi_\\anaconda3\\lib\\site-packages\\sklearn\\neural_network\\_multilayer_perceptron.py:709: UserWarning: Training interrupted by user.\n",
      "  warnings.warn(\"Training interrupted by user.\")\n",
      "C:\\Users\\pepi_\\anaconda3\\lib\\site-packages\\sklearn\\neural_network\\_multilayer_perceptron.py:709: UserWarning: Training interrupted by user.\n",
      "  warnings.warn(\"Training interrupted by user.\")\n",
      "C:\\Users\\pepi_\\anaconda3\\lib\\site-packages\\sklearn\\neural_network\\_multilayer_perceptron.py:709: UserWarning: Training interrupted by user.\n",
      "  warnings.warn(\"Training interrupted by user.\")\n",
      "C:\\Users\\pepi_\\anaconda3\\lib\\site-packages\\sklearn\\neural_network\\_multilayer_perceptron.py:709: UserWarning: Training interrupted by user.\n",
      "  warnings.warn(\"Training interrupted by user.\")\n",
      "C:\\Users\\pepi_\\anaconda3\\lib\\site-packages\\sklearn\\neural_network\\_multilayer_perceptron.py:709: UserWarning: Training interrupted by user.\n",
      "  warnings.warn(\"Training interrupted by user.\")\n",
      "C:\\Users\\pepi_\\anaconda3\\lib\\site-packages\\sklearn\\neural_network\\_multilayer_perceptron.py:709: UserWarning: Training interrupted by user.\n",
      "  warnings.warn(\"Training interrupted by user.\")\n",
      "C:\\Users\\pepi_\\anaconda3\\lib\\site-packages\\sklearn\\neural_network\\_multilayer_perceptron.py:709: UserWarning: Training interrupted by user.\n",
      "  warnings.warn(\"Training interrupted by user.\")\n",
      "C:\\Users\\pepi_\\anaconda3\\lib\\site-packages\\sklearn\\neural_network\\_multilayer_perceptron.py:709: UserWarning: Training interrupted by user.\n",
      "  warnings.warn(\"Training interrupted by user.\")\n",
      "C:\\Users\\pepi_\\anaconda3\\lib\\site-packages\\sklearn\\neural_network\\_multilayer_perceptron.py:709: UserWarning: Training interrupted by user.\n",
      "  warnings.warn(\"Training interrupted by user.\")\n"
     ]
    }
   ],
   "source": [
    "clf13 = BaggingClassifier(MLPClassifier(random_state = 42), random_state = 42).fit(X_train, Y_train)"
   ]
  },
  {
   "cell_type": "code",
   "execution_count": 77,
   "id": "dd54067e",
   "metadata": {},
   "outputs": [],
   "source": [
    "clf14 = BaggingClassifier(ExtraTreeClassifier(random_state = 42), random_state = 42).fit(X_train, Y_train)"
   ]
  },
  {
   "cell_type": "code",
   "execution_count": 78,
   "id": "a327d034",
   "metadata": {},
   "outputs": [],
   "source": [
    "clf15 = GradientBoostingClassifier(n_iter_no_change = 1, random_state = 42).fit(X_train, Y_train)"
   ]
  },
  {
   "cell_type": "code",
   "execution_count": 95,
   "id": "5789170d",
   "metadata": {},
   "outputs": [
    {
     "name": "stdout",
     "output_type": "stream",
     "text": [
      "[Voting] ........... (1 of 12) Processing decision_tree, total=   5.8s\n",
      "[Voting] ..................... (2 of 12) Processing sgd, total=   0.1s\n",
      "[Voting] ..... (3 of 12) Processing logistic_regression, total=   2.4s\n",
      "[Voting] .............. (4 of 12) Processing perceptron, total=   0.1s\n",
      "[Voting] ...... (5 of 12) Processing passive_aggressive, total=   0.2s\n",
      "[Voting] ................... (6 of 12) Processing ridge, total=   0.4s\n",
      "[Voting] ............ (7 of 12) Processing k-neighbours, total=   0.0s\n",
      "[Voting] .............. (8 of 12) Processing linear_svc, total=   0.3s\n",
      "[Voting] ................. (9 of 12) Processing k-means, total=  10.5s\n",
      "[Voting] ......... (10 of 12) Processing multinomial_nb, total=   0.1s\n",
      "[Voting] ............. (11 of 12) Processing extra_tree, total=   2.8s\n",
      "[Voting] ...... (12 of 12) Processing gradient_boosting, total=  21.9s\n"
     ]
    },
    {
     "data": {
      "text/html": [
       "<style>#sk-container-id-11 {color: black;background-color: white;}#sk-container-id-11 pre{padding: 0;}#sk-container-id-11 div.sk-toggleable {background-color: white;}#sk-container-id-11 label.sk-toggleable__label {cursor: pointer;display: block;width: 100%;margin-bottom: 0;padding: 0.3em;box-sizing: border-box;text-align: center;}#sk-container-id-11 label.sk-toggleable__label-arrow:before {content: \"▸\";float: left;margin-right: 0.25em;color: #696969;}#sk-container-id-11 label.sk-toggleable__label-arrow:hover:before {color: black;}#sk-container-id-11 div.sk-estimator:hover label.sk-toggleable__label-arrow:before {color: black;}#sk-container-id-11 div.sk-toggleable__content {max-height: 0;max-width: 0;overflow: hidden;text-align: left;background-color: #f0f8ff;}#sk-container-id-11 div.sk-toggleable__content pre {margin: 0.2em;color: black;border-radius: 0.25em;background-color: #f0f8ff;}#sk-container-id-11 input.sk-toggleable__control:checked~div.sk-toggleable__content {max-height: 200px;max-width: 100%;overflow: auto;}#sk-container-id-11 input.sk-toggleable__control:checked~label.sk-toggleable__label-arrow:before {content: \"▾\";}#sk-container-id-11 div.sk-estimator input.sk-toggleable__control:checked~label.sk-toggleable__label {background-color: #d4ebff;}#sk-container-id-11 div.sk-label input.sk-toggleable__control:checked~label.sk-toggleable__label {background-color: #d4ebff;}#sk-container-id-11 input.sk-hidden--visually {border: 0;clip: rect(1px 1px 1px 1px);clip: rect(1px, 1px, 1px, 1px);height: 1px;margin: -1px;overflow: hidden;padding: 0;position: absolute;width: 1px;}#sk-container-id-11 div.sk-estimator {font-family: monospace;background-color: #f0f8ff;border: 1px dotted black;border-radius: 0.25em;box-sizing: border-box;margin-bottom: 0.5em;}#sk-container-id-11 div.sk-estimator:hover {background-color: #d4ebff;}#sk-container-id-11 div.sk-parallel-item::after {content: \"\";width: 100%;border-bottom: 1px solid gray;flex-grow: 1;}#sk-container-id-11 div.sk-label:hover label.sk-toggleable__label {background-color: #d4ebff;}#sk-container-id-11 div.sk-serial::before {content: \"\";position: absolute;border-left: 1px solid gray;box-sizing: border-box;top: 0;bottom: 0;left: 50%;z-index: 0;}#sk-container-id-11 div.sk-serial {display: flex;flex-direction: column;align-items: center;background-color: white;padding-right: 0.2em;padding-left: 0.2em;position: relative;}#sk-container-id-11 div.sk-item {position: relative;z-index: 1;}#sk-container-id-11 div.sk-parallel {display: flex;align-items: stretch;justify-content: center;background-color: white;position: relative;}#sk-container-id-11 div.sk-item::before, #sk-container-id-11 div.sk-parallel-item::before {content: \"\";position: absolute;border-left: 1px solid gray;box-sizing: border-box;top: 0;bottom: 0;left: 50%;z-index: -1;}#sk-container-id-11 div.sk-parallel-item {display: flex;flex-direction: column;z-index: 1;position: relative;background-color: white;}#sk-container-id-11 div.sk-parallel-item:first-child::after {align-self: flex-end;width: 50%;}#sk-container-id-11 div.sk-parallel-item:last-child::after {align-self: flex-start;width: 50%;}#sk-container-id-11 div.sk-parallel-item:only-child::after {width: 0;}#sk-container-id-11 div.sk-dashed-wrapped {border: 1px dashed gray;margin: 0 0.4em 0.5em 0.4em;box-sizing: border-box;padding-bottom: 0.4em;background-color: white;}#sk-container-id-11 div.sk-label label {font-family: monospace;font-weight: bold;display: inline-block;line-height: 1.2em;}#sk-container-id-11 div.sk-label-container {text-align: center;}#sk-container-id-11 div.sk-container {/* jupyter's `normalize.less` sets `[hidden] { display: none; }` but bootstrap.min.css set `[hidden] { display: none !important; }` so we also need the `!important` here to be able to override the default hidden behavior on the sphinx rendered scikit-learn.org. See: https://github.com/scikit-learn/scikit-learn/issues/21755 */display: inline-block !important;position: relative;}#sk-container-id-11 div.sk-text-repr-fallback {display: none;}</style><div id=\"sk-container-id-11\" class=\"sk-top-container\"><div class=\"sk-text-repr-fallback\"><pre>VotingClassifier(estimators=[(&#x27;decision_tree&#x27;,\n",
       "                              BaggingClassifier(base_estimator=DecisionTreeClassifier(random_state=42),\n",
       "                                                random_state=42)),\n",
       "                             (&#x27;sgd&#x27;,\n",
       "                              BaggingClassifier(base_estimator=SGDClassifier(random_state=42),\n",
       "                                                random_state=42)),\n",
       "                             (&#x27;logistic_regression&#x27;,\n",
       "                              BaggingClassifier(base_estimator=LogisticRegression(random_state=42),\n",
       "                                                random_state=42)),\n",
       "                             (&#x27;perceptron&#x27;,...\n",
       "                              BaggingClassifier(base_estimator=KMeans(n_clusters=2,\n",
       "                                                                      random_state=42),\n",
       "                                                random_state=42)),\n",
       "                             (&#x27;multinomial_nb&#x27;,\n",
       "                              BaggingClassifier(base_estimator=MultinomialNB(),\n",
       "                                                random_state=42)),\n",
       "                             (&#x27;extra_tree&#x27;,\n",
       "                              BaggingClassifier(base_estimator=ExtraTreeClassifier(random_state=42),\n",
       "                                                random_state=42)),\n",
       "                             (&#x27;gradient_boosting&#x27;,\n",
       "                              GradientBoostingClassifier(n_iter_no_change=1,\n",
       "                                                         random_state=42))],\n",
       "                 verbose=True)</pre><b>In a Jupyter environment, please rerun this cell to show the HTML representation or trust the notebook. <br />On GitHub, the HTML representation is unable to render, please try loading this page with nbviewer.org.</b></div><div class=\"sk-container\" hidden><div class=\"sk-item sk-dashed-wrapped\"><div class=\"sk-label-container\"><div class=\"sk-label sk-toggleable\"><input class=\"sk-toggleable__control sk-hidden--visually\" id=\"sk-estimator-id-17\" type=\"checkbox\" ><label for=\"sk-estimator-id-17\" class=\"sk-toggleable__label sk-toggleable__label-arrow\">VotingClassifier</label><div class=\"sk-toggleable__content\"><pre>VotingClassifier(estimators=[(&#x27;decision_tree&#x27;,\n",
       "                              BaggingClassifier(base_estimator=DecisionTreeClassifier(random_state=42),\n",
       "                                                random_state=42)),\n",
       "                             (&#x27;sgd&#x27;,\n",
       "                              BaggingClassifier(base_estimator=SGDClassifier(random_state=42),\n",
       "                                                random_state=42)),\n",
       "                             (&#x27;logistic_regression&#x27;,\n",
       "                              BaggingClassifier(base_estimator=LogisticRegression(random_state=42),\n",
       "                                                random_state=42)),\n",
       "                             (&#x27;perceptron&#x27;,...\n",
       "                              BaggingClassifier(base_estimator=KMeans(n_clusters=2,\n",
       "                                                                      random_state=42),\n",
       "                                                random_state=42)),\n",
       "                             (&#x27;multinomial_nb&#x27;,\n",
       "                              BaggingClassifier(base_estimator=MultinomialNB(),\n",
       "                                                random_state=42)),\n",
       "                             (&#x27;extra_tree&#x27;,\n",
       "                              BaggingClassifier(base_estimator=ExtraTreeClassifier(random_state=42),\n",
       "                                                random_state=42)),\n",
       "                             (&#x27;gradient_boosting&#x27;,\n",
       "                              GradientBoostingClassifier(n_iter_no_change=1,\n",
       "                                                         random_state=42))],\n",
       "                 verbose=True)</pre></div></div></div><div class=\"sk-parallel\"><div class=\"sk-parallel-item\"><div class=\"sk-item\"><div class=\"sk-label-container\"><div class=\"sk-label sk-toggleable\"><label>decision_tree</label></div></div><div class=\"sk-serial\"><div class=\"sk-item sk-dashed-wrapped\"><div class=\"sk-parallel\"><div class=\"sk-parallel-item\"><div class=\"sk-item\"><div class=\"sk-label-container\"><div class=\"sk-label sk-toggleable\"><input class=\"sk-toggleable__control sk-hidden--visually\" id=\"sk-estimator-id-18\" type=\"checkbox\" ><label for=\"sk-estimator-id-18\" class=\"sk-toggleable__label sk-toggleable__label-arrow\">base_estimator: DecisionTreeClassifier</label><div class=\"sk-toggleable__content\"><pre>DecisionTreeClassifier(random_state=42)</pre></div></div></div><div class=\"sk-serial\"><div class=\"sk-item\"><div class=\"sk-estimator sk-toggleable\"><input class=\"sk-toggleable__control sk-hidden--visually\" id=\"sk-estimator-id-19\" type=\"checkbox\" ><label for=\"sk-estimator-id-19\" class=\"sk-toggleable__label sk-toggleable__label-arrow\">DecisionTreeClassifier</label><div class=\"sk-toggleable__content\"><pre>DecisionTreeClassifier(random_state=42)</pre></div></div></div></div></div></div></div></div></div></div></div><div class=\"sk-parallel-item\"><div class=\"sk-item\"><div class=\"sk-label-container\"><div class=\"sk-label sk-toggleable\"><label>sgd</label></div></div><div class=\"sk-serial\"><div class=\"sk-item sk-dashed-wrapped\"><div class=\"sk-parallel\"><div class=\"sk-parallel-item\"><div class=\"sk-item\"><div class=\"sk-label-container\"><div class=\"sk-label sk-toggleable\"><input class=\"sk-toggleable__control sk-hidden--visually\" id=\"sk-estimator-id-20\" type=\"checkbox\" ><label for=\"sk-estimator-id-20\" class=\"sk-toggleable__label sk-toggleable__label-arrow\">base_estimator: SGDClassifier</label><div class=\"sk-toggleable__content\"><pre>SGDClassifier(random_state=42)</pre></div></div></div><div class=\"sk-serial\"><div class=\"sk-item\"><div class=\"sk-estimator sk-toggleable\"><input class=\"sk-toggleable__control sk-hidden--visually\" id=\"sk-estimator-id-21\" type=\"checkbox\" ><label for=\"sk-estimator-id-21\" class=\"sk-toggleable__label sk-toggleable__label-arrow\">SGDClassifier</label><div class=\"sk-toggleable__content\"><pre>SGDClassifier(random_state=42)</pre></div></div></div></div></div></div></div></div></div></div></div><div class=\"sk-parallel-item\"><div class=\"sk-item\"><div class=\"sk-label-container\"><div class=\"sk-label sk-toggleable\"><label>logistic_regression</label></div></div><div class=\"sk-serial\"><div class=\"sk-item sk-dashed-wrapped\"><div class=\"sk-parallel\"><div class=\"sk-parallel-item\"><div class=\"sk-item\"><div class=\"sk-label-container\"><div class=\"sk-label sk-toggleable\"><input class=\"sk-toggleable__control sk-hidden--visually\" id=\"sk-estimator-id-22\" type=\"checkbox\" ><label for=\"sk-estimator-id-22\" class=\"sk-toggleable__label sk-toggleable__label-arrow\">base_estimator: LogisticRegression</label><div class=\"sk-toggleable__content\"><pre>LogisticRegression(random_state=42)</pre></div></div></div><div class=\"sk-serial\"><div class=\"sk-item\"><div class=\"sk-estimator sk-toggleable\"><input class=\"sk-toggleable__control sk-hidden--visually\" id=\"sk-estimator-id-23\" type=\"checkbox\" ><label for=\"sk-estimator-id-23\" class=\"sk-toggleable__label sk-toggleable__label-arrow\">LogisticRegression</label><div class=\"sk-toggleable__content\"><pre>LogisticRegression(random_state=42)</pre></div></div></div></div></div></div></div></div></div></div></div><div class=\"sk-parallel-item\"><div class=\"sk-item\"><div class=\"sk-label-container\"><div class=\"sk-label sk-toggleable\"><label>perceptron</label></div></div><div class=\"sk-serial\"><div class=\"sk-item sk-dashed-wrapped\"><div class=\"sk-parallel\"><div class=\"sk-parallel-item\"><div class=\"sk-item\"><div class=\"sk-label-container\"><div class=\"sk-label sk-toggleable\"><input class=\"sk-toggleable__control sk-hidden--visually\" id=\"sk-estimator-id-24\" type=\"checkbox\" ><label for=\"sk-estimator-id-24\" class=\"sk-toggleable__label sk-toggleable__label-arrow\">base_estimator: Perceptron</label><div class=\"sk-toggleable__content\"><pre>Perceptron(random_state=42)</pre></div></div></div><div class=\"sk-serial\"><div class=\"sk-item\"><div class=\"sk-estimator sk-toggleable\"><input class=\"sk-toggleable__control sk-hidden--visually\" id=\"sk-estimator-id-25\" type=\"checkbox\" ><label for=\"sk-estimator-id-25\" class=\"sk-toggleable__label sk-toggleable__label-arrow\">Perceptron</label><div class=\"sk-toggleable__content\"><pre>Perceptron(random_state=42)</pre></div></div></div></div></div></div></div></div></div></div></div><div class=\"sk-parallel-item\"><div class=\"sk-item\"><div class=\"sk-label-container\"><div class=\"sk-label sk-toggleable\"><label>passive_aggressive</label></div></div><div class=\"sk-serial\"><div class=\"sk-item sk-dashed-wrapped\"><div class=\"sk-parallel\"><div class=\"sk-parallel-item\"><div class=\"sk-item\"><div class=\"sk-label-container\"><div class=\"sk-label sk-toggleable\"><input class=\"sk-toggleable__control sk-hidden--visually\" id=\"sk-estimator-id-26\" type=\"checkbox\" ><label for=\"sk-estimator-id-26\" class=\"sk-toggleable__label sk-toggleable__label-arrow\">base_estimator: PassiveAggressiveClassifier</label><div class=\"sk-toggleable__content\"><pre>PassiveAggressiveClassifier(random_state=42)</pre></div></div></div><div class=\"sk-serial\"><div class=\"sk-item\"><div class=\"sk-estimator sk-toggleable\"><input class=\"sk-toggleable__control sk-hidden--visually\" id=\"sk-estimator-id-27\" type=\"checkbox\" ><label for=\"sk-estimator-id-27\" class=\"sk-toggleable__label sk-toggleable__label-arrow\">PassiveAggressiveClassifier</label><div class=\"sk-toggleable__content\"><pre>PassiveAggressiveClassifier(random_state=42)</pre></div></div></div></div></div></div></div></div></div></div></div><div class=\"sk-parallel-item\"><div class=\"sk-item\"><div class=\"sk-label-container\"><div class=\"sk-label sk-toggleable\"><label>ridge</label></div></div><div class=\"sk-serial\"><div class=\"sk-item sk-dashed-wrapped\"><div class=\"sk-parallel\"><div class=\"sk-parallel-item\"><div class=\"sk-item\"><div class=\"sk-label-container\"><div class=\"sk-label sk-toggleable\"><input class=\"sk-toggleable__control sk-hidden--visually\" id=\"sk-estimator-id-28\" type=\"checkbox\" ><label for=\"sk-estimator-id-28\" class=\"sk-toggleable__label sk-toggleable__label-arrow\">base_estimator: RidgeClassifier</label><div class=\"sk-toggleable__content\"><pre>RidgeClassifier(random_state=42)</pre></div></div></div><div class=\"sk-serial\"><div class=\"sk-item\"><div class=\"sk-estimator sk-toggleable\"><input class=\"sk-toggleable__control sk-hidden--visually\" id=\"sk-estimator-id-29\" type=\"checkbox\" ><label for=\"sk-estimator-id-29\" class=\"sk-toggleable__label sk-toggleable__label-arrow\">RidgeClassifier</label><div class=\"sk-toggleable__content\"><pre>RidgeClassifier(random_state=42)</pre></div></div></div></div></div></div></div></div></div></div></div><div class=\"sk-parallel-item\"><div class=\"sk-item\"><div class=\"sk-label-container\"><div class=\"sk-label sk-toggleable\"><label>k-neighbours</label></div></div><div class=\"sk-serial\"><div class=\"sk-item sk-dashed-wrapped\"><div class=\"sk-parallel\"><div class=\"sk-parallel-item\"><div class=\"sk-item\"><div class=\"sk-label-container\"><div class=\"sk-label sk-toggleable\"><input class=\"sk-toggleable__control sk-hidden--visually\" id=\"sk-estimator-id-30\" type=\"checkbox\" ><label for=\"sk-estimator-id-30\" class=\"sk-toggleable__label sk-toggleable__label-arrow\">base_estimator: KNeighborsClassifier</label><div class=\"sk-toggleable__content\"><pre>KNeighborsClassifier()</pre></div></div></div><div class=\"sk-serial\"><div class=\"sk-item\"><div class=\"sk-estimator sk-toggleable\"><input class=\"sk-toggleable__control sk-hidden--visually\" id=\"sk-estimator-id-31\" type=\"checkbox\" ><label for=\"sk-estimator-id-31\" class=\"sk-toggleable__label sk-toggleable__label-arrow\">KNeighborsClassifier</label><div class=\"sk-toggleable__content\"><pre>KNeighborsClassifier()</pre></div></div></div></div></div></div></div></div></div></div></div><div class=\"sk-parallel-item\"><div class=\"sk-item\"><div class=\"sk-label-container\"><div class=\"sk-label sk-toggleable\"><label>linear_svc</label></div></div><div class=\"sk-serial\"><div class=\"sk-item sk-dashed-wrapped\"><div class=\"sk-parallel\"><div class=\"sk-parallel-item\"><div class=\"sk-item\"><div class=\"sk-label-container\"><div class=\"sk-label sk-toggleable\"><input class=\"sk-toggleable__control sk-hidden--visually\" id=\"sk-estimator-id-32\" type=\"checkbox\" ><label for=\"sk-estimator-id-32\" class=\"sk-toggleable__label sk-toggleable__label-arrow\">base_estimator: LinearSVC</label><div class=\"sk-toggleable__content\"><pre>LinearSVC(random_state=42)</pre></div></div></div><div class=\"sk-serial\"><div class=\"sk-item\"><div class=\"sk-estimator sk-toggleable\"><input class=\"sk-toggleable__control sk-hidden--visually\" id=\"sk-estimator-id-33\" type=\"checkbox\" ><label for=\"sk-estimator-id-33\" class=\"sk-toggleable__label sk-toggleable__label-arrow\">LinearSVC</label><div class=\"sk-toggleable__content\"><pre>LinearSVC(random_state=42)</pre></div></div></div></div></div></div></div></div></div></div></div><div class=\"sk-parallel-item\"><div class=\"sk-item\"><div class=\"sk-label-container\"><div class=\"sk-label sk-toggleable\"><label>k-means</label></div></div><div class=\"sk-serial\"><div class=\"sk-item sk-dashed-wrapped\"><div class=\"sk-parallel\"><div class=\"sk-parallel-item\"><div class=\"sk-item\"><div class=\"sk-label-container\"><div class=\"sk-label sk-toggleable\"><input class=\"sk-toggleable__control sk-hidden--visually\" id=\"sk-estimator-id-34\" type=\"checkbox\" ><label for=\"sk-estimator-id-34\" class=\"sk-toggleable__label sk-toggleable__label-arrow\">base_estimator: KMeans</label><div class=\"sk-toggleable__content\"><pre>KMeans(n_clusters=2, random_state=42)</pre></div></div></div><div class=\"sk-serial\"><div class=\"sk-item\"><div class=\"sk-estimator sk-toggleable\"><input class=\"sk-toggleable__control sk-hidden--visually\" id=\"sk-estimator-id-35\" type=\"checkbox\" ><label for=\"sk-estimator-id-35\" class=\"sk-toggleable__label sk-toggleable__label-arrow\">KMeans</label><div class=\"sk-toggleable__content\"><pre>KMeans(n_clusters=2, random_state=42)</pre></div></div></div></div></div></div></div></div></div></div></div><div class=\"sk-parallel-item\"><div class=\"sk-item\"><div class=\"sk-label-container\"><div class=\"sk-label sk-toggleable\"><label>multinomial_nb</label></div></div><div class=\"sk-serial\"><div class=\"sk-item sk-dashed-wrapped\"><div class=\"sk-parallel\"><div class=\"sk-parallel-item\"><div class=\"sk-item\"><div class=\"sk-label-container\"><div class=\"sk-label sk-toggleable\"><input class=\"sk-toggleable__control sk-hidden--visually\" id=\"sk-estimator-id-36\" type=\"checkbox\" ><label for=\"sk-estimator-id-36\" class=\"sk-toggleable__label sk-toggleable__label-arrow\">base_estimator: MultinomialNB</label><div class=\"sk-toggleable__content\"><pre>MultinomialNB()</pre></div></div></div><div class=\"sk-serial\"><div class=\"sk-item\"><div class=\"sk-estimator sk-toggleable\"><input class=\"sk-toggleable__control sk-hidden--visually\" id=\"sk-estimator-id-37\" type=\"checkbox\" ><label for=\"sk-estimator-id-37\" class=\"sk-toggleable__label sk-toggleable__label-arrow\">MultinomialNB</label><div class=\"sk-toggleable__content\"><pre>MultinomialNB()</pre></div></div></div></div></div></div></div></div></div></div></div><div class=\"sk-parallel-item\"><div class=\"sk-item\"><div class=\"sk-label-container\"><div class=\"sk-label sk-toggleable\"><label>extra_tree</label></div></div><div class=\"sk-serial\"><div class=\"sk-item sk-dashed-wrapped\"><div class=\"sk-parallel\"><div class=\"sk-parallel-item\"><div class=\"sk-item\"><div class=\"sk-label-container\"><div class=\"sk-label sk-toggleable\"><input class=\"sk-toggleable__control sk-hidden--visually\" id=\"sk-estimator-id-38\" type=\"checkbox\" ><label for=\"sk-estimator-id-38\" class=\"sk-toggleable__label sk-toggleable__label-arrow\">base_estimator: ExtraTreeClassifier</label><div class=\"sk-toggleable__content\"><pre>ExtraTreeClassifier(random_state=42)</pre></div></div></div><div class=\"sk-serial\"><div class=\"sk-item\"><div class=\"sk-estimator sk-toggleable\"><input class=\"sk-toggleable__control sk-hidden--visually\" id=\"sk-estimator-id-39\" type=\"checkbox\" ><label for=\"sk-estimator-id-39\" class=\"sk-toggleable__label sk-toggleable__label-arrow\">ExtraTreeClassifier</label><div class=\"sk-toggleable__content\"><pre>ExtraTreeClassifier(random_state=42)</pre></div></div></div></div></div></div></div></div></div></div></div><div class=\"sk-parallel-item\"><div class=\"sk-item\"><div class=\"sk-label-container\"><div class=\"sk-label sk-toggleable\"><label>gradient_boosting</label></div></div><div class=\"sk-serial\"><div class=\"sk-item\"><div class=\"sk-estimator sk-toggleable\"><input class=\"sk-toggleable__control sk-hidden--visually\" id=\"sk-estimator-id-40\" type=\"checkbox\" ><label for=\"sk-estimator-id-40\" class=\"sk-toggleable__label sk-toggleable__label-arrow\">GradientBoostingClassifier</label><div class=\"sk-toggleable__content\"><pre>GradientBoostingClassifier(n_iter_no_change=1, random_state=42)</pre></div></div></div></div></div></div></div></div></div></div>"
      ],
      "text/plain": [
       "VotingClassifier(estimators=[('decision_tree',\n",
       "                              BaggingClassifier(base_estimator=DecisionTreeClassifier(random_state=42),\n",
       "                                                random_state=42)),\n",
       "                             ('sgd',\n",
       "                              BaggingClassifier(base_estimator=SGDClassifier(random_state=42),\n",
       "                                                random_state=42)),\n",
       "                             ('logistic_regression',\n",
       "                              BaggingClassifier(base_estimator=LogisticRegression(random_state=42),\n",
       "                                                random_state=42)),\n",
       "                             ('perceptron',...\n",
       "                              BaggingClassifier(base_estimator=KMeans(n_clusters=2,\n",
       "                                                                      random_state=42),\n",
       "                                                random_state=42)),\n",
       "                             ('multinomial_nb',\n",
       "                              BaggingClassifier(base_estimator=MultinomialNB(),\n",
       "                                                random_state=42)),\n",
       "                             ('extra_tree',\n",
       "                              BaggingClassifier(base_estimator=ExtraTreeClassifier(random_state=42),\n",
       "                                                random_state=42)),\n",
       "                             ('gradient_boosting',\n",
       "                              GradientBoostingClassifier(n_iter_no_change=1,\n",
       "                                                         random_state=42))],\n",
       "                 verbose=True)"
      ]
     },
     "execution_count": 95,
     "metadata": {},
     "output_type": "execute_result"
    }
   ],
   "source": [
    "start = time.time()\n",
    "\n",
    "vote = VotingClassifier(\n",
    "    estimators = [\n",
    "        ('decision_tree', clf1),\n",
    "        ('sgd', clf2),\n",
    "        ('logistic_regression', clf3),\n",
    "        ('perceptron', clf4),\n",
    "#         ('random_forest', clf5),\n",
    "#         ('ada_boost', clf6),\n",
    "        ('passive_aggressive', clf7),\n",
    "        ('ridge', clf8),\n",
    "        ('k-neighbours', clf9),\n",
    "        ('linear_svc', clf10),\n",
    "        ('k-means', clf11),\n",
    "        ('multinomial_nb', clf12),\n",
    "#         ('mlp', clf13),\n",
    "        ('extra_tree', clf14),\n",
    "        ('gradient_boosting', clf15)\n",
    "    ],\n",
    "    verbose = True\n",
    ")\n",
    "\n",
    "vote.fit(X_train, Y_train)"
   ]
  },
  {
   "cell_type": "code",
   "execution_count": null,
   "id": "03e5317e",
   "metadata": {},
   "outputs": [],
   "source": [
    "vote.score(X_test, Y_test)"
   ]
  },
  {
   "cell_type": "code",
   "execution_count": 58,
   "id": "2657a5d9",
   "metadata": {},
   "outputs": [
    {
     "data": {
      "text/html": [
       "<style>#sk-container-id-7 {color: black;background-color: white;}#sk-container-id-7 pre{padding: 0;}#sk-container-id-7 div.sk-toggleable {background-color: white;}#sk-container-id-7 label.sk-toggleable__label {cursor: pointer;display: block;width: 100%;margin-bottom: 0;padding: 0.3em;box-sizing: border-box;text-align: center;}#sk-container-id-7 label.sk-toggleable__label-arrow:before {content: \"▸\";float: left;margin-right: 0.25em;color: #696969;}#sk-container-id-7 label.sk-toggleable__label-arrow:hover:before {color: black;}#sk-container-id-7 div.sk-estimator:hover label.sk-toggleable__label-arrow:before {color: black;}#sk-container-id-7 div.sk-toggleable__content {max-height: 0;max-width: 0;overflow: hidden;text-align: left;background-color: #f0f8ff;}#sk-container-id-7 div.sk-toggleable__content pre {margin: 0.2em;color: black;border-radius: 0.25em;background-color: #f0f8ff;}#sk-container-id-7 input.sk-toggleable__control:checked~div.sk-toggleable__content {max-height: 200px;max-width: 100%;overflow: auto;}#sk-container-id-7 input.sk-toggleable__control:checked~label.sk-toggleable__label-arrow:before {content: \"▾\";}#sk-container-id-7 div.sk-estimator input.sk-toggleable__control:checked~label.sk-toggleable__label {background-color: #d4ebff;}#sk-container-id-7 div.sk-label input.sk-toggleable__control:checked~label.sk-toggleable__label {background-color: #d4ebff;}#sk-container-id-7 input.sk-hidden--visually {border: 0;clip: rect(1px 1px 1px 1px);clip: rect(1px, 1px, 1px, 1px);height: 1px;margin: -1px;overflow: hidden;padding: 0;position: absolute;width: 1px;}#sk-container-id-7 div.sk-estimator {font-family: monospace;background-color: #f0f8ff;border: 1px dotted black;border-radius: 0.25em;box-sizing: border-box;margin-bottom: 0.5em;}#sk-container-id-7 div.sk-estimator:hover {background-color: #d4ebff;}#sk-container-id-7 div.sk-parallel-item::after {content: \"\";width: 100%;border-bottom: 1px solid gray;flex-grow: 1;}#sk-container-id-7 div.sk-label:hover label.sk-toggleable__label {background-color: #d4ebff;}#sk-container-id-7 div.sk-serial::before {content: \"\";position: absolute;border-left: 1px solid gray;box-sizing: border-box;top: 0;bottom: 0;left: 50%;z-index: 0;}#sk-container-id-7 div.sk-serial {display: flex;flex-direction: column;align-items: center;background-color: white;padding-right: 0.2em;padding-left: 0.2em;position: relative;}#sk-container-id-7 div.sk-item {position: relative;z-index: 1;}#sk-container-id-7 div.sk-parallel {display: flex;align-items: stretch;justify-content: center;background-color: white;position: relative;}#sk-container-id-7 div.sk-item::before, #sk-container-id-7 div.sk-parallel-item::before {content: \"\";position: absolute;border-left: 1px solid gray;box-sizing: border-box;top: 0;bottom: 0;left: 50%;z-index: -1;}#sk-container-id-7 div.sk-parallel-item {display: flex;flex-direction: column;z-index: 1;position: relative;background-color: white;}#sk-container-id-7 div.sk-parallel-item:first-child::after {align-self: flex-end;width: 50%;}#sk-container-id-7 div.sk-parallel-item:last-child::after {align-self: flex-start;width: 50%;}#sk-container-id-7 div.sk-parallel-item:only-child::after {width: 0;}#sk-container-id-7 div.sk-dashed-wrapped {border: 1px dashed gray;margin: 0 0.4em 0.5em 0.4em;box-sizing: border-box;padding-bottom: 0.4em;background-color: white;}#sk-container-id-7 div.sk-label label {font-family: monospace;font-weight: bold;display: inline-block;line-height: 1.2em;}#sk-container-id-7 div.sk-label-container {text-align: center;}#sk-container-id-7 div.sk-container {/* jupyter's `normalize.less` sets `[hidden] { display: none; }` but bootstrap.min.css set `[hidden] { display: none !important; }` so we also need the `!important` here to be able to override the default hidden behavior on the sphinx rendered scikit-learn.org. See: https://github.com/scikit-learn/scikit-learn/issues/21755 */display: inline-block !important;position: relative;}#sk-container-id-7 div.sk-text-repr-fallback {display: none;}</style><div id=\"sk-container-id-7\" class=\"sk-top-container\"><div class=\"sk-text-repr-fallback\"><pre>GradientBoostingClassifier(random_state=42)</pre><b>In a Jupyter environment, please rerun this cell to show the HTML representation or trust the notebook. <br />On GitHub, the HTML representation is unable to render, please try loading this page with nbviewer.org.</b></div><div class=\"sk-container\" hidden><div class=\"sk-item\"><div class=\"sk-estimator sk-toggleable\"><input class=\"sk-toggleable__control sk-hidden--visually\" id=\"sk-estimator-id-9\" type=\"checkbox\" checked><label for=\"sk-estimator-id-9\" class=\"sk-toggleable__label sk-toggleable__label-arrow\">GradientBoostingClassifier</label><div class=\"sk-toggleable__content\"><pre>GradientBoostingClassifier(random_state=42)</pre></div></div></div></div></div>"
      ],
      "text/plain": [
       "GradientBoostingClassifier(random_state=42)"
      ]
     },
     "execution_count": 58,
     "metadata": {},
     "output_type": "execute_result"
    }
   ],
   "source": [
    "gb = GradientBoostingClassifier(random_state = 42)\n",
    "\n",
    "gb.fit(X_train, Y_train)"
   ]
  },
  {
   "cell_type": "code",
   "execution_count": 59,
   "id": "d30f44dd",
   "metadata": {},
   "outputs": [
    {
     "data": {
      "text/plain": [
       "array([0.95432692, 0.95673077, 0.94951923, 0.96153846, 0.95913462])"
      ]
     },
     "execution_count": 59,
     "metadata": {},
     "output_type": "execute_result"
    }
   ],
   "source": [
    "cross_val_score(gb, X_test, Y_test)"
   ]
  },
  {
   "cell_type": "code",
   "execution_count": 60,
   "id": "9ae7076b",
   "metadata": {},
   "outputs": [
    {
     "data": {
      "text/plain": [
       "array([0.7480315 , 0.62204724, 0.70866142, 0.64566929, 0.67460317])"
      ]
     },
     "execution_count": 60,
     "metadata": {},
     "output_type": "execute_result"
    }
   ],
   "source": [
    "cross_val_score(gb, X_additional_test, y_additional_test)"
   ]
  },
  {
   "cell_type": "code",
   "execution_count": 61,
   "id": "1b7b776e",
   "metadata": {},
   "outputs": [
    {
     "name": "stdout",
     "output_type": "stream",
     "text": [
      "50.1577287066246\n",
      "              precision    recall  f1-score   support\n",
      "\n",
      "           0       0.67      0.01      0.01       317\n",
      "           1       0.50      1.00      0.67       317\n",
      "\n",
      "    accuracy                           0.50       634\n",
      "   macro avg       0.58      0.50      0.34       634\n",
      "weighted avg       0.58      0.50      0.34       634\n",
      "\n",
      "Confusion matrix, without normalization\n"
     ]
    },
    {
     "data": {
      "image/png": "[encoded data removed]",
      "text/plain": [
       "<Figure size 432x288 with 2 Axes>"
      ]
     },
     "metadata": {
      "needs_background": "light"
     },
     "output_type": "display_data"
    }
   ],
   "source": [
    "model_report(gb, X_additional_test[:, :17128], y_additional_test)"
   ]
  },
  {
   "cell_type": "code",
   "execution_count": 98,
   "id": "49c17c12",
   "metadata": {},
   "outputs": [
    {
     "name": "stdout",
     "output_type": "stream",
     "text": [
      "      Iter       Train Loss   Remaining Time \n",
      "         1           1.2434           17.82s\n",
      "         2           1.1266           17.64s\n",
      "         3           1.0293           17.36s\n",
      "         4           0.9476           17.21s\n",
      "         5           0.8781           17.09s\n",
      "         6           0.8184           17.04s\n",
      "         7           0.7674           16.87s\n",
      "         8           0.7230           16.65s\n",
      "         9           0.6844           16.44s\n",
      "        10           0.6508           16.26s\n",
      "        20           0.4723           14.54s\n",
      "        30           0.4161           12.60s\n",
      "        40           0.3802           10.76s\n",
      "        50           0.3524            8.93s\n",
      "        60           0.3278            7.12s\n",
      "        70           0.3068            5.34s\n",
      "        80           0.2898            3.55s\n",
      "        90           0.2719            1.77s\n",
      "       100           0.2559            0.00s\n",
      "      Iter       Train Loss   Remaining Time \n",
      "         1           1.2438           17.66s\n",
      "         2           1.1274           17.61s\n",
      "         3           1.0303           17.47s\n",
      "         4           0.9486           17.29s\n",
      "         5           0.8793           17.11s\n",
      "         6           0.8197           16.91s\n",
      "         7           0.7688           16.73s\n",
      "         8           0.7246           16.55s\n",
      "         9           0.6860           16.35s\n",
      "        10           0.6523           16.16s\n",
      "        20           0.4726           14.34s\n",
      "        30           0.4155           12.48s\n",
      "        40           0.3787           10.66s\n",
      "        50           0.3500            8.88s\n",
      "        60           0.3257            7.09s\n",
      "        70           0.3044            5.31s\n",
      "        80           0.2873            3.54s\n",
      "        90           0.2706            1.77s\n",
      "       100           0.2560            0.00s\n",
      "      Iter       Train Loss   Remaining Time \n",
      "         1           1.2434           17.62s\n",
      "         2           1.1265           17.54s\n",
      "         3           1.0293           17.47s\n",
      "         4           0.9473           17.40s\n",
      "         5           0.8778           17.26s\n",
      "         6           0.8183           17.06s\n",
      "         7           0.7670           16.85s\n",
      "         8           0.7228           16.64s\n",
      "         9           0.6841           16.46s\n",
      "        10           0.6507           16.32s\n",
      "        20           0.4709           14.33s\n",
      "        30           0.4148           12.47s\n",
      "        40           0.3789           10.68s\n",
      "        50           0.3491            8.88s\n",
      "        60           0.3233            7.10s\n",
      "        70           0.3049            5.32s\n",
      "        80           0.2866            3.55s\n",
      "        90           0.2686            1.77s\n",
      "       100           0.2550            0.00s\n",
      "      Iter       Train Loss   Remaining Time \n",
      "         1           1.2439           17.52s\n",
      "         2           1.1274           17.49s\n",
      "         3           1.0305           17.25s\n",
      "         4           0.9487           17.10s\n",
      "         5           0.8793           16.99s\n",
      "         6           0.8199           16.80s\n",
      "         7           0.7687           16.63s\n",
      "         8           0.7246           16.44s\n",
      "         9           0.6862           16.27s\n",
      "        10           0.6524           16.14s\n",
      "        20           0.4737           14.26s\n",
      "        30           0.4178           12.41s\n",
      "        40           0.3814           10.59s\n",
      "        50           0.3501            8.84s\n",
      "        60           0.3265            7.08s\n",
      "        70           0.3058            5.31s\n",
      "        80           0.2878            3.55s\n",
      "        90           0.2723            1.77s\n"
     ]
    },
    {
     "ename": "KeyboardInterrupt",
     "evalue": "",
     "output_type": "error",
     "traceback": [
      "\u001b[1;31m---------------------------------------------------------------------------\u001b[0m",
      "\u001b[1;31mKeyboardInterrupt\u001b[0m                         Traceback (most recent call last)",
      "\u001b[1;32m~\\AppData\\Local\\Temp\\ipykernel_10980\\30997938.py\u001b[0m in \u001b[0;36m<module>\u001b[1;34m\u001b[0m\n\u001b[0;32m      1\u001b[0m \u001b[0mtest\u001b[0m \u001b[1;33m=\u001b[0m \u001b[0mCalibratedClassifierCV\u001b[0m\u001b[1;33m(\u001b[0m\u001b[0mbase_estimator\u001b[0m \u001b[1;33m=\u001b[0m \u001b[0mGradientBoostingClassifier\u001b[0m\u001b[1;33m(\u001b[0m\u001b[0mverbose\u001b[0m \u001b[1;33m=\u001b[0m \u001b[1;32mTrue\u001b[0m\u001b[1;33m)\u001b[0m\u001b[1;33m)\u001b[0m\u001b[1;33m\u001b[0m\u001b[1;33m\u001b[0m\u001b[0m\n\u001b[0;32m      2\u001b[0m \u001b[1;33m\u001b[0m\u001b[0m\n\u001b[1;32m----> 3\u001b[1;33m \u001b[0mtest\u001b[0m\u001b[1;33m.\u001b[0m\u001b[0mfit\u001b[0m\u001b[1;33m(\u001b[0m\u001b[0mX_train\u001b[0m\u001b[1;33m,\u001b[0m \u001b[0mY_train\u001b[0m\u001b[1;33m)\u001b[0m\u001b[1;33m\u001b[0m\u001b[1;33m\u001b[0m\u001b[0m\n\u001b[0m",
      "\u001b[1;32m~\\anaconda3\\lib\\site-packages\\sklearn\\calibration.py\u001b[0m in \u001b[0;36mfit\u001b[1;34m(self, X, y, sample_weight, **fit_params)\u001b[0m\n\u001b[0;32m    350\u001b[0m             \u001b[1;32mif\u001b[0m \u001b[0mself\u001b[0m\u001b[1;33m.\u001b[0m\u001b[0mensemble\u001b[0m\u001b[1;33m:\u001b[0m\u001b[1;33m\u001b[0m\u001b[1;33m\u001b[0m\u001b[0m\n\u001b[0;32m    351\u001b[0m                 \u001b[0mparallel\u001b[0m \u001b[1;33m=\u001b[0m \u001b[0mParallel\u001b[0m\u001b[1;33m(\u001b[0m\u001b[0mn_jobs\u001b[0m\u001b[1;33m=\u001b[0m\u001b[0mself\u001b[0m\u001b[1;33m.\u001b[0m\u001b[0mn_jobs\u001b[0m\u001b[1;33m)\u001b[0m\u001b[1;33m\u001b[0m\u001b[1;33m\u001b[0m\u001b[0m\n\u001b[1;32m--> 352\u001b[1;33m                 self.calibrated_classifiers_ = parallel(\n\u001b[0m\u001b[0;32m    353\u001b[0m                     delayed(_fit_classifier_calibrator_pair)(\n\u001b[0;32m    354\u001b[0m                         \u001b[0mclone\u001b[0m\u001b[1;33m(\u001b[0m\u001b[0mbase_estimator\u001b[0m\u001b[1;33m)\u001b[0m\u001b[1;33m,\u001b[0m\u001b[1;33m\u001b[0m\u001b[1;33m\u001b[0m\u001b[0m\n",
      "\u001b[1;32m~\\AppData\\Roaming\\Python\\Python39\\site-packages\\joblib\\parallel.py\u001b[0m in \u001b[0;36m__call__\u001b[1;34m(self, iterable)\u001b[0m\n\u001b[0;32m   1044\u001b[0m                 \u001b[0mself\u001b[0m\u001b[1;33m.\u001b[0m\u001b[0m_iterating\u001b[0m \u001b[1;33m=\u001b[0m \u001b[0mself\u001b[0m\u001b[1;33m.\u001b[0m\u001b[0m_original_iterator\u001b[0m \u001b[1;32mis\u001b[0m \u001b[1;32mnot\u001b[0m \u001b[1;32mNone\u001b[0m\u001b[1;33m\u001b[0m\u001b[1;33m\u001b[0m\u001b[0m\n\u001b[0;32m   1045\u001b[0m \u001b[1;33m\u001b[0m\u001b[0m\n\u001b[1;32m-> 1046\u001b[1;33m             \u001b[1;32mwhile\u001b[0m \u001b[0mself\u001b[0m\u001b[1;33m.\u001b[0m\u001b[0mdispatch_one_batch\u001b[0m\u001b[1;33m(\u001b[0m\u001b[0miterator\u001b[0m\u001b[1;33m)\u001b[0m\u001b[1;33m:\u001b[0m\u001b[1;33m\u001b[0m\u001b[1;33m\u001b[0m\u001b[0m\n\u001b[0m\u001b[0;32m   1047\u001b[0m                 \u001b[1;32mpass\u001b[0m\u001b[1;33m\u001b[0m\u001b[1;33m\u001b[0m\u001b[0m\n\u001b[0;32m   1048\u001b[0m \u001b[1;33m\u001b[0m\u001b[0m\n",
      "\u001b[1;32m~\\AppData\\Roaming\\Python\\Python39\\site-packages\\joblib\\parallel.py\u001b[0m in \u001b[0;36mdispatch_one_batch\u001b[1;34m(self, iterator)\u001b[0m\n\u001b[0;32m    859\u001b[0m                 \u001b[1;32mreturn\u001b[0m \u001b[1;32mFalse\u001b[0m\u001b[1;33m\u001b[0m\u001b[1;33m\u001b[0m\u001b[0m\n\u001b[0;32m    860\u001b[0m             \u001b[1;32melse\u001b[0m\u001b[1;33m:\u001b[0m\u001b[1;33m\u001b[0m\u001b[1;33m\u001b[0m\u001b[0m\n\u001b[1;32m--> 861\u001b[1;33m                 \u001b[0mself\u001b[0m\u001b[1;33m.\u001b[0m\u001b[0m_dispatch\u001b[0m\u001b[1;33m(\u001b[0m\u001b[0mtasks\u001b[0m\u001b[1;33m)\u001b[0m\u001b[1;33m\u001b[0m\u001b[1;33m\u001b[0m\u001b[0m\n\u001b[0m\u001b[0;32m    862\u001b[0m                 \u001b[1;32mreturn\u001b[0m \u001b[1;32mTrue\u001b[0m\u001b[1;33m\u001b[0m\u001b[1;33m\u001b[0m\u001b[0m\n\u001b[0;32m    863\u001b[0m \u001b[1;33m\u001b[0m\u001b[0m\n",
      "\u001b[1;32m~\\AppData\\Roaming\\Python\\Python39\\site-packages\\joblib\\parallel.py\u001b[0m in \u001b[0;36m_dispatch\u001b[1;34m(self, batch)\u001b[0m\n\u001b[0;32m    777\u001b[0m         \u001b[1;32mwith\u001b[0m \u001b[0mself\u001b[0m\u001b[1;33m.\u001b[0m\u001b[0m_lock\u001b[0m\u001b[1;33m:\u001b[0m\u001b[1;33m\u001b[0m\u001b[1;33m\u001b[0m\u001b[0m\n\u001b[0;32m    778\u001b[0m             \u001b[0mjob_idx\u001b[0m \u001b[1;33m=\u001b[0m \u001b[0mlen\u001b[0m\u001b[1;33m(\u001b[0m\u001b[0mself\u001b[0m\u001b[1;33m.\u001b[0m\u001b[0m_jobs\u001b[0m\u001b[1;33m)\u001b[0m\u001b[1;33m\u001b[0m\u001b[1;33m\u001b[0m\u001b[0m\n\u001b[1;32m--> 779\u001b[1;33m             \u001b[0mjob\u001b[0m \u001b[1;33m=\u001b[0m \u001b[0mself\u001b[0m\u001b[1;33m.\u001b[0m\u001b[0m_backend\u001b[0m\u001b[1;33m.\u001b[0m\u001b[0mapply_async\u001b[0m\u001b[1;33m(\u001b[0m\u001b[0mbatch\u001b[0m\u001b[1;33m,\u001b[0m \u001b[0mcallback\u001b[0m\u001b[1;33m=\u001b[0m\u001b[0mcb\u001b[0m\u001b[1;33m)\u001b[0m\u001b[1;33m\u001b[0m\u001b[1;33m\u001b[0m\u001b[0m\n\u001b[0m\u001b[0;32m    780\u001b[0m             \u001b[1;31m# A job can complete so quickly than its callback is\u001b[0m\u001b[1;33m\u001b[0m\u001b[1;33m\u001b[0m\u001b[0m\n\u001b[0;32m    781\u001b[0m             \u001b[1;31m# called before we get here, causing self._jobs to\u001b[0m\u001b[1;33m\u001b[0m\u001b[1;33m\u001b[0m\u001b[0m\n",
      "\u001b[1;32m~\\AppData\\Roaming\\Python\\Python39\\site-packages\\joblib\\_parallel_backends.py\u001b[0m in \u001b[0;36mapply_async\u001b[1;34m(self, func, callback)\u001b[0m\n\u001b[0;32m    206\u001b[0m     \u001b[1;32mdef\u001b[0m \u001b[0mapply_async\u001b[0m\u001b[1;33m(\u001b[0m\u001b[0mself\u001b[0m\u001b[1;33m,\u001b[0m \u001b[0mfunc\u001b[0m\u001b[1;33m,\u001b[0m \u001b[0mcallback\u001b[0m\u001b[1;33m=\u001b[0m\u001b[1;32mNone\u001b[0m\u001b[1;33m)\u001b[0m\u001b[1;33m:\u001b[0m\u001b[1;33m\u001b[0m\u001b[1;33m\u001b[0m\u001b[0m\n\u001b[0;32m    207\u001b[0m         \u001b[1;34m\"\"\"Schedule a func to be run\"\"\"\u001b[0m\u001b[1;33m\u001b[0m\u001b[1;33m\u001b[0m\u001b[0m\n\u001b[1;32m--> 208\u001b[1;33m         \u001b[0mresult\u001b[0m \u001b[1;33m=\u001b[0m \u001b[0mImmediateResult\u001b[0m\u001b[1;33m(\u001b[0m\u001b[0mfunc\u001b[0m\u001b[1;33m)\u001b[0m\u001b[1;33m\u001b[0m\u001b[1;33m\u001b[0m\u001b[0m\n\u001b[0m\u001b[0;32m    209\u001b[0m         \u001b[1;32mif\u001b[0m \u001b[0mcallback\u001b[0m\u001b[1;33m:\u001b[0m\u001b[1;33m\u001b[0m\u001b[1;33m\u001b[0m\u001b[0m\n\u001b[0;32m    210\u001b[0m             \u001b[0mcallback\u001b[0m\u001b[1;33m(\u001b[0m\u001b[0mresult\u001b[0m\u001b[1;33m)\u001b[0m\u001b[1;33m\u001b[0m\u001b[1;33m\u001b[0m\u001b[0m\n",
      "\u001b[1;32m~\\AppData\\Roaming\\Python\\Python39\\site-packages\\joblib\\_parallel_backends.py\u001b[0m in \u001b[0;36m__init__\u001b[1;34m(self, batch)\u001b[0m\n\u001b[0;32m    570\u001b[0m         \u001b[1;31m# Don't delay the application, to avoid keeping the input\u001b[0m\u001b[1;33m\u001b[0m\u001b[1;33m\u001b[0m\u001b[0m\n\u001b[0;32m    571\u001b[0m         \u001b[1;31m# arguments in memory\u001b[0m\u001b[1;33m\u001b[0m\u001b[1;33m\u001b[0m\u001b[0m\n\u001b[1;32m--> 572\u001b[1;33m         \u001b[0mself\u001b[0m\u001b[1;33m.\u001b[0m\u001b[0mresults\u001b[0m \u001b[1;33m=\u001b[0m \u001b[0mbatch\u001b[0m\u001b[1;33m(\u001b[0m\u001b[1;33m)\u001b[0m\u001b[1;33m\u001b[0m\u001b[1;33m\u001b[0m\u001b[0m\n\u001b[0m\u001b[0;32m    573\u001b[0m \u001b[1;33m\u001b[0m\u001b[0m\n\u001b[0;32m    574\u001b[0m     \u001b[1;32mdef\u001b[0m \u001b[0mget\u001b[0m\u001b[1;33m(\u001b[0m\u001b[0mself\u001b[0m\u001b[1;33m)\u001b[0m\u001b[1;33m:\u001b[0m\u001b[1;33m\u001b[0m\u001b[1;33m\u001b[0m\u001b[0m\n",
      "\u001b[1;32m~\\AppData\\Roaming\\Python\\Python39\\site-packages\\joblib\\parallel.py\u001b[0m in \u001b[0;36m__call__\u001b[1;34m(self)\u001b[0m\n\u001b[0;32m    260\u001b[0m         \u001b[1;31m# change the default number of processes to -1\u001b[0m\u001b[1;33m\u001b[0m\u001b[1;33m\u001b[0m\u001b[0m\n\u001b[0;32m    261\u001b[0m         \u001b[1;32mwith\u001b[0m \u001b[0mparallel_backend\u001b[0m\u001b[1;33m(\u001b[0m\u001b[0mself\u001b[0m\u001b[1;33m.\u001b[0m\u001b[0m_backend\u001b[0m\u001b[1;33m,\u001b[0m \u001b[0mn_jobs\u001b[0m\u001b[1;33m=\u001b[0m\u001b[0mself\u001b[0m\u001b[1;33m.\u001b[0m\u001b[0m_n_jobs\u001b[0m\u001b[1;33m)\u001b[0m\u001b[1;33m:\u001b[0m\u001b[1;33m\u001b[0m\u001b[1;33m\u001b[0m\u001b[0m\n\u001b[1;32m--> 262\u001b[1;33m             return [func(*args, **kwargs)\n\u001b[0m\u001b[0;32m    263\u001b[0m                     for func, args, kwargs in self.items]\n\u001b[0;32m    264\u001b[0m \u001b[1;33m\u001b[0m\u001b[0m\n",
      "\u001b[1;32m~\\AppData\\Roaming\\Python\\Python39\\site-packages\\joblib\\parallel.py\u001b[0m in \u001b[0;36m<listcomp>\u001b[1;34m(.0)\u001b[0m\n\u001b[0;32m    260\u001b[0m         \u001b[1;31m# change the default number of processes to -1\u001b[0m\u001b[1;33m\u001b[0m\u001b[1;33m\u001b[0m\u001b[0m\n\u001b[0;32m    261\u001b[0m         \u001b[1;32mwith\u001b[0m \u001b[0mparallel_backend\u001b[0m\u001b[1;33m(\u001b[0m\u001b[0mself\u001b[0m\u001b[1;33m.\u001b[0m\u001b[0m_backend\u001b[0m\u001b[1;33m,\u001b[0m \u001b[0mn_jobs\u001b[0m\u001b[1;33m=\u001b[0m\u001b[0mself\u001b[0m\u001b[1;33m.\u001b[0m\u001b[0m_n_jobs\u001b[0m\u001b[1;33m)\u001b[0m\u001b[1;33m:\u001b[0m\u001b[1;33m\u001b[0m\u001b[1;33m\u001b[0m\u001b[0m\n\u001b[1;32m--> 262\u001b[1;33m             return [func(*args, **kwargs)\n\u001b[0m\u001b[0;32m    263\u001b[0m                     for func, args, kwargs in self.items]\n\u001b[0;32m    264\u001b[0m \u001b[1;33m\u001b[0m\u001b[0m\n",
      "\u001b[1;32m~\\anaconda3\\lib\\site-packages\\sklearn\\utils\\fixes.py\u001b[0m in \u001b[0;36m__call__\u001b[1;34m(self, *args, **kwargs)\u001b[0m\n\u001b[0;32m    115\u001b[0m     \u001b[1;32mdef\u001b[0m \u001b[0m__call__\u001b[0m\u001b[1;33m(\u001b[0m\u001b[0mself\u001b[0m\u001b[1;33m,\u001b[0m \u001b[1;33m*\u001b[0m\u001b[0margs\u001b[0m\u001b[1;33m,\u001b[0m \u001b[1;33m**\u001b[0m\u001b[0mkwargs\u001b[0m\u001b[1;33m)\u001b[0m\u001b[1;33m:\u001b[0m\u001b[1;33m\u001b[0m\u001b[1;33m\u001b[0m\u001b[0m\n\u001b[0;32m    116\u001b[0m         \u001b[1;32mwith\u001b[0m \u001b[0mconfig_context\u001b[0m\u001b[1;33m(\u001b[0m\u001b[1;33m**\u001b[0m\u001b[0mself\u001b[0m\u001b[1;33m.\u001b[0m\u001b[0mconfig\u001b[0m\u001b[1;33m)\u001b[0m\u001b[1;33m:\u001b[0m\u001b[1;33m\u001b[0m\u001b[1;33m\u001b[0m\u001b[0m\n\u001b[1;32m--> 117\u001b[1;33m             \u001b[1;32mreturn\u001b[0m \u001b[0mself\u001b[0m\u001b[1;33m.\u001b[0m\u001b[0mfunction\u001b[0m\u001b[1;33m(\u001b[0m\u001b[1;33m*\u001b[0m\u001b[0margs\u001b[0m\u001b[1;33m,\u001b[0m \u001b[1;33m**\u001b[0m\u001b[0mkwargs\u001b[0m\u001b[1;33m)\u001b[0m\u001b[1;33m\u001b[0m\u001b[1;33m\u001b[0m\u001b[0m\n\u001b[0m\u001b[0;32m    118\u001b[0m \u001b[1;33m\u001b[0m\u001b[0m\n\u001b[0;32m    119\u001b[0m \u001b[1;33m\u001b[0m\u001b[0m\n",
      "\u001b[1;32m~\\anaconda3\\lib\\site-packages\\sklearn\\calibration.py\u001b[0m in \u001b[0;36m_fit_classifier_calibrator_pair\u001b[1;34m(estimator, X, y, train, test, supports_sw, method, classes, sample_weight, **fit_params)\u001b[0m\n\u001b[0;32m    532\u001b[0m         \u001b[0mestimator\u001b[0m\u001b[1;33m.\u001b[0m\u001b[0mfit\u001b[0m\u001b[1;33m(\u001b[0m\u001b[0mX_train\u001b[0m\u001b[1;33m,\u001b[0m \u001b[0my_train\u001b[0m\u001b[1;33m,\u001b[0m \u001b[0msample_weight\u001b[0m\u001b[1;33m=\u001b[0m\u001b[0msw_train\u001b[0m\u001b[1;33m,\u001b[0m \u001b[1;33m**\u001b[0m\u001b[0mfit_params_train\u001b[0m\u001b[1;33m)\u001b[0m\u001b[1;33m\u001b[0m\u001b[1;33m\u001b[0m\u001b[0m\n\u001b[0;32m    533\u001b[0m     \u001b[1;32melse\u001b[0m\u001b[1;33m:\u001b[0m\u001b[1;33m\u001b[0m\u001b[1;33m\u001b[0m\u001b[0m\n\u001b[1;32m--> 534\u001b[1;33m         \u001b[0mestimator\u001b[0m\u001b[1;33m.\u001b[0m\u001b[0mfit\u001b[0m\u001b[1;33m(\u001b[0m\u001b[0mX_train\u001b[0m\u001b[1;33m,\u001b[0m \u001b[0my_train\u001b[0m\u001b[1;33m,\u001b[0m \u001b[1;33m**\u001b[0m\u001b[0mfit_params_train\u001b[0m\u001b[1;33m)\u001b[0m\u001b[1;33m\u001b[0m\u001b[1;33m\u001b[0m\u001b[0m\n\u001b[0m\u001b[0;32m    535\u001b[0m \u001b[1;33m\u001b[0m\u001b[0m\n\u001b[0;32m    536\u001b[0m     \u001b[0mn_classes\u001b[0m \u001b[1;33m=\u001b[0m \u001b[0mlen\u001b[0m\u001b[1;33m(\u001b[0m\u001b[0mclasses\u001b[0m\u001b[1;33m)\u001b[0m\u001b[1;33m\u001b[0m\u001b[1;33m\u001b[0m\u001b[0m\n",
      "\u001b[1;32m~\\anaconda3\\lib\\site-packages\\sklearn\\ensemble\\_gb.py\u001b[0m in \u001b[0;36mfit\u001b[1;34m(self, X, y, sample_weight, monitor)\u001b[0m\n\u001b[0;32m    666\u001b[0m \u001b[1;33m\u001b[0m\u001b[0m\n\u001b[0;32m    667\u001b[0m         \u001b[1;31m# fit the boosting stages\u001b[0m\u001b[1;33m\u001b[0m\u001b[1;33m\u001b[0m\u001b[0m\n\u001b[1;32m--> 668\u001b[1;33m         n_stages = self._fit_stages(\n\u001b[0m\u001b[0;32m    669\u001b[0m             \u001b[0mX\u001b[0m\u001b[1;33m,\u001b[0m\u001b[1;33m\u001b[0m\u001b[1;33m\u001b[0m\u001b[0m\n\u001b[0;32m    670\u001b[0m             \u001b[0my\u001b[0m\u001b[1;33m,\u001b[0m\u001b[1;33m\u001b[0m\u001b[1;33m\u001b[0m\u001b[0m\n",
      "\u001b[1;32m~\\anaconda3\\lib\\site-packages\\sklearn\\ensemble\\_gb.py\u001b[0m in \u001b[0;36m_fit_stages\u001b[1;34m(self, X, y, raw_predictions, sample_weight, random_state, X_val, y_val, sample_weight_val, begin_at_stage, monitor)\u001b[0m\n\u001b[0;32m    743\u001b[0m \u001b[1;33m\u001b[0m\u001b[0m\n\u001b[0;32m    744\u001b[0m             \u001b[1;31m# fit next stage of trees\u001b[0m\u001b[1;33m\u001b[0m\u001b[1;33m\u001b[0m\u001b[0m\n\u001b[1;32m--> 745\u001b[1;33m             raw_predictions = self._fit_stage(\n\u001b[0m\u001b[0;32m    746\u001b[0m                 \u001b[0mi\u001b[0m\u001b[1;33m,\u001b[0m\u001b[1;33m\u001b[0m\u001b[1;33m\u001b[0m\u001b[0m\n\u001b[0;32m    747\u001b[0m                 \u001b[0mX\u001b[0m\u001b[1;33m,\u001b[0m\u001b[1;33m\u001b[0m\u001b[1;33m\u001b[0m\u001b[0m\n",
      "\u001b[1;32m~\\anaconda3\\lib\\site-packages\\sklearn\\ensemble\\_gb.py\u001b[0m in \u001b[0;36m_fit_stage\u001b[1;34m(self, i, X, y, raw_predictions, sample_weight, sample_mask, random_state, X_csc, X_csr)\u001b[0m\n\u001b[0;32m    248\u001b[0m \u001b[1;33m\u001b[0m\u001b[0m\n\u001b[0;32m    249\u001b[0m             \u001b[1;31m# update tree leaves\u001b[0m\u001b[1;33m\u001b[0m\u001b[1;33m\u001b[0m\u001b[0m\n\u001b[1;32m--> 250\u001b[1;33m             loss.update_terminal_regions(\n\u001b[0m\u001b[0;32m    251\u001b[0m                 \u001b[0mtree\u001b[0m\u001b[1;33m.\u001b[0m\u001b[0mtree_\u001b[0m\u001b[1;33m,\u001b[0m\u001b[1;33m\u001b[0m\u001b[1;33m\u001b[0m\u001b[0m\n\u001b[0;32m    252\u001b[0m                 \u001b[0mX\u001b[0m\u001b[1;33m,\u001b[0m\u001b[1;33m\u001b[0m\u001b[1;33m\u001b[0m\u001b[0m\n",
      "\u001b[1;32m~\\anaconda3\\lib\\site-packages\\sklearn\\ensemble\\_gb_losses.py\u001b[0m in \u001b[0;36mupdate_terminal_regions\u001b[1;34m(self, tree, X, y, residual, raw_predictions, sample_weight, sample_mask, learning_rate, k)\u001b[0m\n\u001b[0;32m    131\u001b[0m \u001b[1;33m\u001b[0m\u001b[0m\n\u001b[0;32m    132\u001b[0m         \u001b[1;31m# update predictions (both in-bag and out-of-bag)\u001b[0m\u001b[1;33m\u001b[0m\u001b[1;33m\u001b[0m\u001b[0m\n\u001b[1;32m--> 133\u001b[1;33m         raw_predictions[:, k] += learning_rate * tree.value[:, 0, 0].take(\n\u001b[0m\u001b[0;32m    134\u001b[0m             \u001b[0mterminal_regions\u001b[0m\u001b[1;33m,\u001b[0m \u001b[0maxis\u001b[0m\u001b[1;33m=\u001b[0m\u001b[1;36m0\u001b[0m\u001b[1;33m\u001b[0m\u001b[1;33m\u001b[0m\u001b[0m\n\u001b[0;32m    135\u001b[0m         )\n",
      "\u001b[1;31mKeyboardInterrupt\u001b[0m: "
     ]
    }
   ],
   "source": [
    "test = CalibratedClassifierCV(base_estimator = GradientBoostingClassifier(verbose = True))\n",
    "\n",
    "test.fit(X_train, Y_train)"
   ]
  },
  {
   "cell_type": "code",
   "execution_count": 82,
   "id": "bed4235a",
   "metadata": {},
   "outputs": [
    {
     "data": {
      "text/plain": [
       "array([0.7480315 , 0.66141732, 0.74015748, 0.67716535, 0.67460317])"
      ]
     },
     "execution_count": 82,
     "metadata": {},
     "output_type": "execute_result"
    }
   ],
   "source": [
    "cross_val_score(test, X_additional_test, y_additional_test)"
   ]
  },
  {
   "cell_type": "code",
   "execution_count": 92,
   "id": "041c7122",
   "metadata": {},
   "outputs": [
    {
     "data": {
      "text/plain": [
       "0.5031545741324921"
      ]
     },
     "execution_count": 92,
     "metadata": {},
     "output_type": "execute_result"
    }
   ],
   "source": [
    "test.score(X_additional_test[:, :17128], y_additional_test)"
   ]
  },
  {
   "cell_type": "code",
   "execution_count": null,
   "id": "689cf063",
   "metadata": {},
   "outputs": [],
   "source": []
  }
 ],
 "metadata": {
  "kernelspec": {
   "display_name": "Python 3 (ipykernel)",
   "language": "python",
   "name": "python3"
  },
  "language_info": {
   "codemirror_mode": {
    "name": "ipython",
    "version": 3
   },
   "file_extension": ".py",
   "mimetype": "text/x-python",
   "name": "python",
   "nbconvert_exporter": "python",
   "pygments_lexer": "ipython3",
   "version": "3.9.12"
  },
  "papermill": {
   "default_parameters": {},
   "duration": 59.593419,
   "end_time": "2021-12-08T06:05:58.321273",
   "environment_variables": {},
   "exception": null,
   "input_path": "__notebook__.ipynb",
   "output_path": "__notebook__.ipynb",
   "parameters": {},
   "start_time": "2021-12-08T06:04:58.727854",
   "version": "2.3.3"
  }
 },
 "nbformat": 4,
 "nbformat_minor": 5
}
