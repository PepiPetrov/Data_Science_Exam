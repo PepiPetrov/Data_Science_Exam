{
 "cells": [
  {
   "cell_type": "markdown",
   "id": "cb09837a",
   "metadata": {
    "papermill": {
     "duration": 0.020825,
     "end_time": "2021-12-08T06:05:08.360373",
     "exception": false,
     "start_time": "2021-12-08T06:05:08.339548",
     "status": "completed"
    },
    "tags": []
   },
   "source": [
    "### About the Dataset:\n",
    "\n",
    "1. id: unique id for a news article\n",
    "2. title: the title of a news article\n",
    "3. author: author of the news article\n",
    "4. text: the text of the article; could be incomplete\n",
    "5. label: a label that marks whether the news article is real or fake:\n",
    "           1: Fake news\n",
    "           0: Real News"
   ]
  },
  {
   "cell_type": "code",
   "execution_count": 1,
   "id": "eba7ea4c",
   "metadata": {
    "execution": {
     "iopub.execute_input": "2021-12-08T06:05:08.448004Z",
     "iopub.status.busy": "2021-12-08T06:05:08.447336Z",
     "iopub.status.idle": "2021-12-08T06:05:10.410568Z",
     "shell.execute_reply": "2021-12-08T06:05:10.411148Z",
     "shell.execute_reply.started": "2021-12-08T06:00:07.462234Z"
    },
    "papermill": {
     "duration": 1.991732,
     "end_time": "2021-12-08T06:05:10.411521",
     "exception": false,
     "start_time": "2021-12-08T06:05:08.419789",
     "status": "completed"
    },
    "tags": []
   },
   "outputs": [],
   "source": [
    "import re\n",
    "\n",
    "import numpy as np\n",
    "import matplotlib.pyplot as plt\n",
    "\n",
    "import pandas as pd"
   ]
  },
  {
   "cell_type": "code",
   "execution_count": 2,
   "id": "097406b9",
   "metadata": {},
   "outputs": [],
   "source": [
    "from sklearn.feature_extraction.text import TfidfVectorizer\n",
    "from sklearn.linear_model import LogisticRegression\n",
    "\n",
    "from sklearn.model_selection import train_test_split\n",
    "from sklearn.metrics import accuracy_score"
   ]
  },
  {
   "cell_type": "code",
   "execution_count": 3,
   "id": "39b72784",
   "metadata": {},
   "outputs": [
    {
     "name": "stderr",
     "output_type": "stream",
     "text": [
      "[nltk_data] Downloading package stopwords to\n",
      "[nltk_data]     C:\\Users\\pepi_\\AppData\\Roaming\\nltk_data...\n",
      "[nltk_data]   Package stopwords is already up-to-date!\n"
     ]
    },
    {
     "data": {
      "text/plain": [
       "True"
      ]
     },
     "execution_count": 3,
     "metadata": {},
     "output_type": "execute_result"
    }
   ],
   "source": [
    "import nltk\n",
    "from nltk.corpus import stopwords\n",
    "from nltk.stem.porter import PorterStemmer\n",
    "\n",
    "from wordcloud import WordCloud, STOPWORDS\n",
    "\n",
    "nltk.download('stopwords')"
   ]
  },
  {
   "cell_type": "code",
   "execution_count": 4,
   "id": "e141f921",
   "metadata": {
    "execution": {
     "iopub.execute_input": "2021-12-08T06:05:10.459980Z",
     "iopub.status.busy": "2021-12-08T06:05:10.459294Z",
     "iopub.status.idle": "2021-12-08T06:05:13.330245Z",
     "shell.execute_reply": "2021-12-08T06:05:13.329589Z",
     "shell.execute_reply.started": "2021-12-08T06:00:09.422343Z"
    },
    "papermill": {
     "duration": 2.898224,
     "end_time": "2021-12-08T06:05:13.330443",
     "exception": false,
     "start_time": "2021-12-08T06:05:10.432219",
     "status": "completed"
    },
    "tags": []
   },
   "outputs": [],
   "source": [
    "news_dataset = pd.read_csv('fake-news/train.csv')"
   ]
  },
  {
   "cell_type": "code",
   "execution_count": 5,
   "id": "075f31e3",
   "metadata": {
    "execution": {
     "iopub.execute_input": "2021-12-08T06:05:13.379572Z",
     "iopub.status.busy": "2021-12-08T06:05:13.378926Z",
     "iopub.status.idle": "2021-12-08T06:05:13.394847Z",
     "shell.execute_reply": "2021-12-08T06:05:13.395349Z",
     "shell.execute_reply.started": "2021-12-08T06:00:12.381076Z"
    },
    "papermill": {
     "duration": 0.044848,
     "end_time": "2021-12-08T06:05:13.395550",
     "exception": false,
     "start_time": "2021-12-08T06:05:13.350702",
     "status": "completed"
    },
    "scrolled": false,
    "tags": []
   },
   "outputs": [
    {
     "data": {
      "text/html": [
       "<div>\n",
       "<style scoped>\n",
       "    .dataframe tbody tr th:only-of-type {\n",
       "        vertical-align: middle;\n",
       "    }\n",
       "\n",
       "    .dataframe tbody tr th {\n",
       "        vertical-align: top;\n",
       "    }\n",
       "\n",
       "    .dataframe thead th {\n",
       "        text-align: right;\n",
       "    }\n",
       "</style>\n",
       "<table border=\"1\" class=\"dataframe\">\n",
       "  <thead>\n",
       "    <tr style=\"text-align: right;\">\n",
       "      <th></th>\n",
       "      <th>id</th>\n",
       "      <th>title</th>\n",
       "      <th>author</th>\n",
       "      <th>text</th>\n",
       "      <th>label</th>\n",
       "    </tr>\n",
       "  </thead>\n",
       "  <tbody>\n",
       "    <tr>\n",
       "      <th>0</th>\n",
       "      <td>0</td>\n",
       "      <td>House Dem Aide: We Didn’t Even See Comey’s Let...</td>\n",
       "      <td>Darrell Lucus</td>\n",
       "      <td>House Dem Aide: We Didn’t Even See Comey’s Let...</td>\n",
       "      <td>1</td>\n",
       "    </tr>\n",
       "    <tr>\n",
       "      <th>1</th>\n",
       "      <td>1</td>\n",
       "      <td>FLYNN: Hillary Clinton, Big Woman on Campus - ...</td>\n",
       "      <td>Daniel J. Flynn</td>\n",
       "      <td>Ever get the feeling your life circles the rou...</td>\n",
       "      <td>0</td>\n",
       "    </tr>\n",
       "    <tr>\n",
       "      <th>2</th>\n",
       "      <td>2</td>\n",
       "      <td>Why the Truth Might Get You Fired</td>\n",
       "      <td>Consortiumnews.com</td>\n",
       "      <td>Why the Truth Might Get You Fired October 29, ...</td>\n",
       "      <td>1</td>\n",
       "    </tr>\n",
       "    <tr>\n",
       "      <th>3</th>\n",
       "      <td>3</td>\n",
       "      <td>15 Civilians Killed In Single US Airstrike Hav...</td>\n",
       "      <td>Jessica Purkiss</td>\n",
       "      <td>Videos 15 Civilians Killed In Single US Airstr...</td>\n",
       "      <td>1</td>\n",
       "    </tr>\n",
       "    <tr>\n",
       "      <th>4</th>\n",
       "      <td>4</td>\n",
       "      <td>Iranian woman jailed for fictional unpublished...</td>\n",
       "      <td>Howard Portnoy</td>\n",
       "      <td>Print \\nAn Iranian woman has been sentenced to...</td>\n",
       "      <td>1</td>\n",
       "    </tr>\n",
       "  </tbody>\n",
       "</table>\n",
       "</div>"
      ],
      "text/plain": [
       "   id                                              title              author  \\\n",
       "0   0  House Dem Aide: We Didn’t Even See Comey’s Let...       Darrell Lucus   \n",
       "1   1  FLYNN: Hillary Clinton, Big Woman on Campus - ...     Daniel J. Flynn   \n",
       "2   2                  Why the Truth Might Get You Fired  Consortiumnews.com   \n",
       "3   3  15 Civilians Killed In Single US Airstrike Hav...     Jessica Purkiss   \n",
       "4   4  Iranian woman jailed for fictional unpublished...      Howard Portnoy   \n",
       "\n",
       "                                                text  label  \n",
       "0  House Dem Aide: We Didn’t Even See Comey’s Let...      1  \n",
       "1  Ever get the feeling your life circles the rou...      0  \n",
       "2  Why the Truth Might Get You Fired October 29, ...      1  \n",
       "3  Videos 15 Civilians Killed In Single US Airstr...      1  \n",
       "4  Print \\nAn Iranian woman has been sentenced to...      1  "
      ]
     },
     "execution_count": 5,
     "metadata": {},
     "output_type": "execute_result"
    }
   ],
   "source": [
    "news_dataset.head()"
   ]
  },
  {
   "cell_type": "markdown",
   "id": "295ed848",
   "metadata": {
    "papermill": {
     "duration": 0.020321,
     "end_time": "2021-12-08T06:05:13.436578",
     "exception": false,
     "start_time": "2021-12-08T06:05:13.416257",
     "status": "completed"
    },
    "tags": []
   },
   "source": [
    "# EDA"
   ]
  },
  {
   "cell_type": "code",
   "execution_count": 6,
   "id": "90f1ab5e",
   "metadata": {
    "execution": {
     "iopub.execute_input": "2021-12-08T06:05:13.485337Z",
     "iopub.status.busy": "2021-12-08T06:05:13.484648Z",
     "iopub.status.idle": "2021-12-08T06:05:13.490593Z",
     "shell.execute_reply": "2021-12-08T06:05:13.490140Z",
     "shell.execute_reply.started": "2021-12-08T06:00:12.407235Z"
    },
    "papermill": {
     "duration": 0.032263,
     "end_time": "2021-12-08T06:05:13.490738",
     "exception": false,
     "start_time": "2021-12-08T06:05:13.458475",
     "status": "completed"
    },
    "tags": []
   },
   "outputs": [
    {
     "data": {
      "text/plain": [
       "(20800, 5)"
      ]
     },
     "execution_count": 6,
     "metadata": {},
     "output_type": "execute_result"
    }
   ],
   "source": [
    "news_dataset.shape"
   ]
  },
  {
   "cell_type": "code",
   "execution_count": 7,
   "id": "9b89f254",
   "metadata": {
    "execution": {
     "iopub.execute_input": "2021-12-08T06:05:13.549975Z",
     "iopub.status.busy": "2021-12-08T06:05:13.546979Z",
     "iopub.status.idle": "2021-12-08T06:05:13.552622Z",
     "shell.execute_reply": "2021-12-08T06:05:13.553089Z",
     "shell.execute_reply.started": "2021-12-08T06:00:12.414408Z"
    },
    "papermill": {
     "duration": 0.041294,
     "end_time": "2021-12-08T06:05:13.553276",
     "exception": false,
     "start_time": "2021-12-08T06:05:13.511982",
     "status": "completed"
    },
    "scrolled": true,
    "tags": []
   },
   "outputs": [
    {
     "data": {
      "text/plain": [
       "id           0\n",
       "title      558\n",
       "author    1957\n",
       "text        39\n",
       "label        0\n",
       "dtype: int64"
      ]
     },
     "execution_count": 7,
     "metadata": {},
     "output_type": "execute_result"
    }
   ],
   "source": [
    "news_dataset.isnull().sum()"
   ]
  },
  {
   "cell_type": "code",
   "execution_count": 8,
   "id": "8419708b",
   "metadata": {
    "execution": {
     "iopub.execute_input": "2021-12-08T06:05:13.599233Z",
     "iopub.status.busy": "2021-12-08T06:05:13.598545Z",
     "iopub.status.idle": "2021-12-08T06:05:13.614109Z",
     "shell.execute_reply": "2021-12-08T06:05:13.613553Z",
     "shell.execute_reply.started": "2021-12-08T06:00:12.443313Z"
    },
    "papermill": {
     "duration": 0.039791,
     "end_time": "2021-12-08T06:05:13.614277",
     "exception": false,
     "start_time": "2021-12-08T06:05:13.574486",
     "status": "completed"
    },
    "tags": []
   },
   "outputs": [],
   "source": [
    "news_dataset = news_dataset.dropna()"
   ]
  },
  {
   "cell_type": "code",
   "execution_count": 9,
   "id": "6f3f28cf",
   "metadata": {
    "execution": {
     "iopub.execute_input": "2021-12-08T06:05:13.667257Z",
     "iopub.status.busy": "2021-12-08T06:05:13.664451Z",
     "iopub.status.idle": "2021-12-08T06:05:13.679469Z",
     "shell.execute_reply": "2021-12-08T06:05:13.678920Z",
     "shell.execute_reply.started": "2021-12-08T06:00:12.467675Z"
    },
    "papermill": {
     "duration": 0.044265,
     "end_time": "2021-12-08T06:05:13.679623",
     "exception": false,
     "start_time": "2021-12-08T06:05:13.635358",
     "status": "completed"
    },
    "tags": []
   },
   "outputs": [],
   "source": [
    "news_dataset['data'] = news_dataset['author']+' '+news_dataset['title']"
   ]
  },
  {
   "cell_type": "code",
   "execution_count": 10,
   "id": "6d1dc82c",
   "metadata": {
    "execution": {
     "iopub.execute_input": "2021-12-08T06:05:13.727815Z",
     "iopub.status.busy": "2021-12-08T06:05:13.727222Z",
     "iopub.status.idle": "2021-12-08T06:05:13.734418Z",
     "shell.execute_reply": "2021-12-08T06:05:13.733544Z",
     "shell.execute_reply.started": "2021-12-08T06:00:12.494988Z"
    },
    "papermill": {
     "duration": 0.033876,
     "end_time": "2021-12-08T06:05:13.734662",
     "exception": false,
     "start_time": "2021-12-08T06:05:13.700786",
     "status": "completed"
    },
    "tags": []
   },
   "outputs": [
    {
     "name": "stdout",
     "output_type": "stream",
     "text": [
      "0        Darrell Lucus House Dem Aide: We Didn’t Even S...\n",
      "1        Daniel J. Flynn FLYNN: Hillary Clinton, Big Wo...\n",
      "2        Consortiumnews.com Why the Truth Might Get You...\n",
      "3        Jessica Purkiss 15 Civilians Killed In Single ...\n",
      "4        Howard Portnoy Iranian woman jailed for fictio...\n",
      "                               ...                        \n",
      "20795    Jerome Hudson Rapper T.I.: Trump a ’Poster Chi...\n",
      "20796    Benjamin Hoffman N.F.L. Playoffs: Schedule, Ma...\n",
      "20797    Michael J. de la Merced and Rachel Abrams Macy...\n",
      "20798    Alex Ansary NATO, Russia To Hold Parallel Exer...\n",
      "20799              David Swanson What Keeps the F-35 Alive\n",
      "Name: data, Length: 18285, dtype: object\n"
     ]
    }
   ],
   "source": [
    "print(news_dataset['data'])"
   ]
  },
  {
   "cell_type": "code",
   "execution_count": 11,
   "id": "96eec342",
   "metadata": {
    "execution": {
     "iopub.execute_input": "2021-12-08T06:05:13.781809Z",
     "iopub.status.busy": "2021-12-08T06:05:13.781159Z",
     "iopub.status.idle": "2021-12-08T06:05:13.800521Z",
     "shell.execute_reply": "2021-12-08T06:05:13.799952Z",
     "shell.execute_reply.started": "2021-12-08T06:00:12.507343Z"
    },
    "papermill": {
     "duration": 0.044433,
     "end_time": "2021-12-08T06:05:13.800683",
     "exception": false,
     "start_time": "2021-12-08T06:05:13.756250",
     "status": "completed"
    },
    "tags": []
   },
   "outputs": [],
   "source": [
    "X = news_dataset.drop(columns='label', axis=1)\n",
    "Y = news_dataset['label']"
   ]
  },
  {
   "cell_type": "code",
   "execution_count": 12,
   "id": "8a014f14",
   "metadata": {},
   "outputs": [
    {
     "data": {
      "text/plain": [
       "18285"
      ]
     },
     "execution_count": 12,
     "metadata": {},
     "output_type": "execute_result"
    }
   ],
   "source": [
    "len(news_dataset)"
   ]
  },
  {
   "cell_type": "code",
   "execution_count": 13,
   "id": "1b51a420",
   "metadata": {
    "scrolled": true
   },
   "outputs": [
    {
     "data": {
      "text/plain": [
       "7924"
      ]
     },
     "execution_count": 13,
     "metadata": {},
     "output_type": "execute_result"
    }
   ],
   "source": [
    "len(news_dataset[news_dataset.label == 1])"
   ]
  },
  {
   "cell_type": "code",
   "execution_count": 14,
   "id": "910ce5f4",
   "metadata": {},
   "outputs": [
    {
     "data": {
      "text/plain": [
       "10361"
      ]
     },
     "execution_count": 14,
     "metadata": {},
     "output_type": "execute_result"
    }
   ],
   "source": [
    "len(news_dataset[news_dataset.label == 0])"
   ]
  },
  {
   "cell_type": "code",
   "execution_count": 15,
   "id": "db8f80be",
   "metadata": {
    "execution": {
     "iopub.execute_input": "2021-12-08T06:05:13.855533Z",
     "iopub.status.busy": "2021-12-08T06:05:13.854803Z",
     "iopub.status.idle": "2021-12-08T06:05:13.858086Z",
     "shell.execute_reply": "2021-12-08T06:05:13.858778Z",
     "shell.execute_reply.started": "2021-12-08T06:00:12.538935Z"
    },
    "papermill": {
     "duration": 0.036922,
     "end_time": "2021-12-08T06:05:13.859056",
     "exception": false,
     "start_time": "2021-12-08T06:05:13.822134",
     "status": "completed"
    },
    "scrolled": true,
    "tags": []
   },
   "outputs": [
    {
     "name": "stdout",
     "output_type": "stream",
     "text": [
      "          id                                              title  \\\n",
      "0          0  House Dem Aide: We Didn’t Even See Comey’s Let...   \n",
      "1          1  FLYNN: Hillary Clinton, Big Woman on Campus - ...   \n",
      "2          2                  Why the Truth Might Get You Fired   \n",
      "3          3  15 Civilians Killed In Single US Airstrike Hav...   \n",
      "4          4  Iranian woman jailed for fictional unpublished...   \n",
      "...      ...                                                ...   \n",
      "20795  20795  Rapper T.I.: Trump a ’Poster Child For White S...   \n",
      "20796  20796  N.F.L. Playoffs: Schedule, Matchups and Odds -...   \n",
      "20797  20797  Macy’s Is Said to Receive Takeover Approach by...   \n",
      "20798  20798  NATO, Russia To Hold Parallel Exercises In Bal...   \n",
      "20799  20799                          What Keeps the F-35 Alive   \n",
      "\n",
      "                                          author  \\\n",
      "0                                  Darrell Lucus   \n",
      "1                                Daniel J. Flynn   \n",
      "2                             Consortiumnews.com   \n",
      "3                                Jessica Purkiss   \n",
      "4                                 Howard Portnoy   \n",
      "...                                          ...   \n",
      "20795                              Jerome Hudson   \n",
      "20796                           Benjamin Hoffman   \n",
      "20797  Michael J. de la Merced and Rachel Abrams   \n",
      "20798                                Alex Ansary   \n",
      "20799                              David Swanson   \n",
      "\n",
      "                                                    text  \\\n",
      "0      House Dem Aide: We Didn’t Even See Comey’s Let...   \n",
      "1      Ever get the feeling your life circles the rou...   \n",
      "2      Why the Truth Might Get You Fired October 29, ...   \n",
      "3      Videos 15 Civilians Killed In Single US Airstr...   \n",
      "4      Print \\nAn Iranian woman has been sentenced to...   \n",
      "...                                                  ...   \n",
      "20795  Rapper T. I. unloaded on black celebrities who...   \n",
      "20796  When the Green Bay Packers lost to the Washing...   \n",
      "20797  The Macy’s of today grew from the union of sev...   \n",
      "20798  NATO, Russia To Hold Parallel Exercises In Bal...   \n",
      "20799    David Swanson is an author, activist, journa...   \n",
      "\n",
      "                                                    data  \n",
      "0      Darrell Lucus House Dem Aide: We Didn’t Even S...  \n",
      "1      Daniel J. Flynn FLYNN: Hillary Clinton, Big Wo...  \n",
      "2      Consortiumnews.com Why the Truth Might Get You...  \n",
      "3      Jessica Purkiss 15 Civilians Killed In Single ...  \n",
      "4      Howard Portnoy Iranian woman jailed for fictio...  \n",
      "...                                                  ...  \n",
      "20795  Jerome Hudson Rapper T.I.: Trump a ’Poster Chi...  \n",
      "20796  Benjamin Hoffman N.F.L. Playoffs: Schedule, Ma...  \n",
      "20797  Michael J. de la Merced and Rachel Abrams Macy...  \n",
      "20798  Alex Ansary NATO, Russia To Hold Parallel Exer...  \n",
      "20799            David Swanson What Keeps the F-35 Alive  \n",
      "\n",
      "[18285 rows x 5 columns] \n",
      "\n",
      "\n",
      "\n",
      " 0        1\n",
      "1        0\n",
      "2        1\n",
      "3        1\n",
      "4        1\n",
      "        ..\n",
      "20795    0\n",
      "20796    0\n",
      "20797    0\n",
      "20798    1\n",
      "20799    1\n",
      "Name: label, Length: 18285, dtype: int64\n"
     ]
    }
   ],
   "source": [
    "print(X,'\\n\\n\\n\\n',Y)"
   ]
  },
  {
   "cell_type": "markdown",
   "id": "db98c191",
   "metadata": {
    "papermill": {
     "duration": 0.021393,
     "end_time": "2021-12-08T06:05:13.903654",
     "exception": false,
     "start_time": "2021-12-08T06:05:13.882261",
     "status": "completed"
    },
    "tags": []
   },
   "source": [
    "# Stemming"
   ]
  },
  {
   "cell_type": "code",
   "execution_count": 16,
   "id": "6874abc4",
   "metadata": {
    "execution": {
     "iopub.execute_input": "2021-12-08T06:05:13.950647Z",
     "iopub.status.busy": "2021-12-08T06:05:13.950092Z",
     "iopub.status.idle": "2021-12-08T06:05:13.953938Z",
     "shell.execute_reply": "2021-12-08T06:05:13.954406Z",
     "shell.execute_reply.started": "2021-12-08T06:00:12.554635Z"
    },
    "papermill": {
     "duration": 0.029194,
     "end_time": "2021-12-08T06:05:13.954583",
     "exception": false,
     "start_time": "2021-12-08T06:05:13.925389",
     "status": "completed"
    },
    "tags": []
   },
   "outputs": [],
   "source": [
    "stem_words = PorterStemmer()"
   ]
  },
  {
   "cell_type": "code",
   "execution_count": 17,
   "id": "a541be05",
   "metadata": {
    "execution": {
     "iopub.execute_input": "2021-12-08T06:05:14.003041Z",
     "iopub.status.busy": "2021-12-08T06:05:14.002309Z",
     "iopub.status.idle": "2021-12-08T06:05:14.006764Z",
     "shell.execute_reply": "2021-12-08T06:05:14.007307Z",
     "shell.execute_reply.started": "2021-12-08T06:00:12.566989Z"
    },
    "papermill": {
     "duration": 0.031151,
     "end_time": "2021-12-08T06:05:14.007503",
     "exception": false,
     "start_time": "2021-12-08T06:05:13.976352",
     "status": "completed"
    },
    "tags": []
   },
   "outputs": [],
   "source": [
    "def stemming(data):\n",
    "    stemmed_content = re.sub('[^a-zA-Z]',' ',data)\n",
    "    stemmed_content = stemmed_content.lower()\n",
    "    stemmed_content = stemmed_content.split()\n",
    "    stemmed_content = [stem_words.stem(word) for word in stemmed_content if not word in stopwords.words('english')]\n",
    "    stemmed_content = ' '.join(stemmed_content)\n",
    "    return stemmed_content"
   ]
  },
  {
   "cell_type": "code",
   "execution_count": 18,
   "id": "464176d7",
   "metadata": {
    "execution": {
     "iopub.execute_input": "2021-12-08T06:05:14.058187Z",
     "iopub.status.busy": "2021-12-08T06:05:14.057559Z",
     "iopub.status.idle": "2021-12-08T06:05:54.156801Z",
     "shell.execute_reply": "2021-12-08T06:05:54.157339Z",
     "shell.execute_reply.started": "2021-12-08T06:00:12.580919Z"
    },
    "papermill": {
     "duration": 40.128266,
     "end_time": "2021-12-08T06:05:54.157554",
     "exception": false,
     "start_time": "2021-12-08T06:05:14.029288",
     "status": "completed"
    },
    "tags": []
   },
   "outputs": [],
   "source": [
    "news_dataset['data'] = news_dataset['data'].apply(stemming)"
   ]
  },
  {
   "cell_type": "markdown",
   "id": "879a294f",
   "metadata": {
    "papermill": {
     "duration": 0.021502,
     "end_time": "2021-12-08T06:05:54.201163",
     "exception": false,
     "start_time": "2021-12-08T06:05:54.179661",
     "status": "completed"
    },
    "tags": []
   },
   "source": [
    "# Visualizing"
   ]
  },
  {
   "cell_type": "code",
   "execution_count": 19,
   "id": "fd80c8a1",
   "metadata": {
    "execution": {
     "iopub.execute_input": "2021-12-08T06:05:54.254818Z",
     "iopub.status.busy": "2021-12-08T06:05:54.251395Z",
     "iopub.status.idle": "2021-12-08T06:05:54.878910Z",
     "shell.execute_reply": "2021-12-08T06:05:54.879417Z",
     "shell.execute_reply.started": "2021-12-08T06:00:58.499213Z"
    },
    "papermill": {
     "duration": 0.656977,
     "end_time": "2021-12-08T06:05:54.879619",
     "exception": false,
     "start_time": "2021-12-08T06:05:54.222642",
     "status": "completed"
    },
    "tags": []
   },
   "outputs": [],
   "source": [
    "# stopwords = set(STOPWORDS)\n",
    "# wordcloud = WordCloud(\n",
    "#                         background_color='black',\n",
    "#                         stopwords=stopwords,\n",
    "#                         max_words=200, \n",
    "#                         random_state=42).generate(str(news_dataset['data']))\n",
    "\n",
    "# plt.figure(figsize=(15,10))\n",
    "# plt.axis(\"off\")\n",
    "# plt.title(\"Words frequented in text\", fontsize=15)\n",
    "# plt.imshow(wordcloud.recolor(colormap= 'viridis' , random_state=42), alpha=0.98)\n",
    "# plt.show()"
   ]
  },
  {
   "cell_type": "code",
   "execution_count": 20,
   "id": "afe2ce2d",
   "metadata": {
    "execution": {
     "iopub.execute_input": "2021-12-08T06:05:54.942860Z",
     "iopub.status.busy": "2021-12-08T06:05:54.942215Z",
     "iopub.status.idle": "2021-12-08T06:05:54.948088Z",
     "shell.execute_reply": "2021-12-08T06:05:54.948909Z",
     "shell.execute_reply.started": "2021-12-08T06:00:59.138648Z"
    },
    "papermill": {
     "duration": 0.039487,
     "end_time": "2021-12-08T06:05:54.949155",
     "exception": false,
     "start_time": "2021-12-08T06:05:54.909668",
     "status": "completed"
    },
    "scrolled": true,
    "tags": []
   },
   "outputs": [
    {
     "name": "stdout",
     "output_type": "stream",
     "text": [
      "0        darrel lucu hous dem aid even see comey letter...\n",
      "1        daniel j flynn flynn hillari clinton big woman...\n",
      "2                   consortiumnew com truth might get fire\n",
      "3        jessica purkiss civilian kill singl us airstri...\n",
      "4        howard portnoy iranian woman jail fiction unpu...\n",
      "                               ...                        \n",
      "20795    jerom hudson rapper trump poster child white s...\n",
      "20796    benjamin hoffman n f l playoff schedul matchup...\n",
      "20797    michael j de la merc rachel abram maci said re...\n",
      "20798    alex ansari nato russia hold parallel exercis ...\n",
      "20799                            david swanson keep f aliv\n",
      "Name: data, Length: 18285, dtype: object\n"
     ]
    }
   ],
   "source": [
    "print(news_dataset['data'])"
   ]
  },
  {
   "cell_type": "markdown",
   "id": "4f569260",
   "metadata": {
    "papermill": {
     "duration": 0.029607,
     "end_time": "2021-12-08T06:05:55.010942",
     "exception": false,
     "start_time": "2021-12-08T06:05:54.981335",
     "status": "completed"
    },
    "tags": []
   },
   "source": [
    "# Modelling"
   ]
  },
  {
   "cell_type": "code",
   "execution_count": 21,
   "id": "1cd58548",
   "metadata": {
    "execution": {
     "iopub.execute_input": "2021-12-08T06:05:55.080935Z",
     "iopub.status.busy": "2021-12-08T06:05:55.080153Z",
     "iopub.status.idle": "2021-12-08T06:05:55.083266Z",
     "shell.execute_reply": "2021-12-08T06:05:55.083790Z",
     "shell.execute_reply.started": "2021-12-08T06:00:59.148834Z"
    },
    "papermill": {
     "duration": 0.042514,
     "end_time": "2021-12-08T06:05:55.083998",
     "exception": false,
     "start_time": "2021-12-08T06:05:55.041484",
     "status": "completed"
    },
    "tags": []
   },
   "outputs": [],
   "source": [
    "X = news_dataset['data'].values\n",
    "Y = news_dataset['label'].values"
   ]
  },
  {
   "cell_type": "code",
   "execution_count": 22,
   "id": "46bb6fa6",
   "metadata": {
    "execution": {
     "iopub.execute_input": "2021-12-08T06:05:55.147863Z",
     "iopub.status.busy": "2021-12-08T06:05:55.147242Z",
     "iopub.status.idle": "2021-12-08T06:05:55.152881Z",
     "shell.execute_reply": "2021-12-08T06:05:55.153592Z",
     "shell.execute_reply.started": "2021-12-08T06:00:59.163634Z"
    },
    "papermill": {
     "duration": 0.040192,
     "end_time": "2021-12-08T06:05:55.154042",
     "exception": false,
     "start_time": "2021-12-08T06:05:55.113850",
     "status": "completed"
    },
    "tags": []
   },
   "outputs": [
    {
     "name": "stdout",
     "output_type": "stream",
     "text": [
      "['darrel lucu hous dem aid even see comey letter jason chaffetz tweet'\n",
      " 'daniel j flynn flynn hillari clinton big woman campu breitbart'\n",
      " 'consortiumnew com truth might get fire' ...\n",
      " 'michael j de la merc rachel abram maci said receiv takeov approach hudson bay new york time'\n",
      " 'alex ansari nato russia hold parallel exercis balkan'\n",
      " 'david swanson keep f aliv'] \n",
      "\n",
      "\n",
      "\n",
      " [1 0 1 ... 0 1 1]\n"
     ]
    }
   ],
   "source": [
    "print(X,'\\n\\n\\n\\n',Y)"
   ]
  },
  {
   "cell_type": "code",
   "execution_count": 23,
   "id": "0e4e922d",
   "metadata": {
    "execution": {
     "iopub.execute_input": "2021-12-08T06:05:55.221042Z",
     "iopub.status.busy": "2021-12-08T06:05:55.220051Z",
     "iopub.status.idle": "2021-12-08T06:05:55.743965Z",
     "shell.execute_reply": "2021-12-08T06:05:55.744533Z",
     "shell.execute_reply.started": "2021-12-08T06:00:59.180699Z"
    },
    "papermill": {
     "duration": 0.558812,
     "end_time": "2021-12-08T06:05:55.744726",
     "exception": false,
     "start_time": "2021-12-08T06:05:55.185914",
     "status": "completed"
    },
    "tags": []
   },
   "outputs": [],
   "source": [
    "vectorizer = TfidfVectorizer()\n",
    "vectorizer.fit(X)\n",
    "\n",
    "X = vectorizer.transform(X)"
   ]
  },
  {
   "cell_type": "code",
   "execution_count": 24,
   "id": "f75622fa",
   "metadata": {
    "execution": {
     "iopub.execute_input": "2021-12-08T06:05:55.809970Z",
     "iopub.status.busy": "2021-12-08T06:05:55.807515Z",
     "iopub.status.idle": "2021-12-08T06:05:55.828456Z",
     "shell.execute_reply": "2021-12-08T06:05:55.829006Z",
     "shell.execute_reply.started": "2021-12-08T06:00:59.945722Z"
    },
    "papermill": {
     "duration": 0.054459,
     "end_time": "2021-12-08T06:05:55.829205",
     "exception": false,
     "start_time": "2021-12-08T06:05:55.774746",
     "status": "completed"
    },
    "tags": []
   },
   "outputs": [],
   "source": [
    "X_train, X_test, Y_train, Y_test = train_test_split(X, Y, test_size = 0.2, stratify=Y, random_state=2)"
   ]
  },
  {
   "cell_type": "code",
   "execution_count": 25,
   "id": "8ce4fa98",
   "metadata": {
    "execution": {
     "iopub.execute_input": "2021-12-08T06:05:55.897329Z",
     "iopub.status.busy": "2021-12-08T06:05:55.896299Z",
     "iopub.status.idle": "2021-12-08T06:05:56.482578Z",
     "shell.execute_reply": "2021-12-08T06:05:56.483558Z",
     "shell.execute_reply.started": "2021-12-08T06:00:59.976354Z"
    },
    "papermill": {
     "duration": 0.624568,
     "end_time": "2021-12-08T06:05:56.484291",
     "exception": false,
     "start_time": "2021-12-08T06:05:55.859723",
     "status": "completed"
    },
    "tags": []
   },
   "outputs": [
    {
     "data": {
      "text/plain": [
       "LogisticRegression()"
      ]
     },
     "execution_count": 25,
     "metadata": {},
     "output_type": "execute_result"
    }
   ],
   "source": [
    "model = LogisticRegression()\n",
    "model.fit(X_train, Y_train)"
   ]
  },
  {
   "cell_type": "markdown",
   "id": "18d837c2",
   "metadata": {
    "papermill": {
     "duration": 0.048104,
     "end_time": "2021-12-08T06:05:56.602109",
     "exception": false,
     "start_time": "2021-12-08T06:05:56.554005",
     "status": "completed"
    },
    "tags": []
   },
   "source": [
    "# Accuracy Check"
   ]
  },
  {
   "cell_type": "markdown",
   "id": "3c468bd7",
   "metadata": {
    "papermill": {
     "duration": 0.030245,
     "end_time": "2021-12-08T06:05:56.662970",
     "exception": false,
     "start_time": "2021-12-08T06:05:56.632725",
     "status": "completed"
    },
    "tags": []
   },
   "source": [
    "### Training Accuracy "
   ]
  },
  {
   "cell_type": "code",
   "execution_count": 26,
   "id": "64422761",
   "metadata": {
    "execution": {
     "iopub.execute_input": "2021-12-08T06:05:56.730486Z",
     "iopub.status.busy": "2021-12-08T06:05:56.729333Z",
     "iopub.status.idle": "2021-12-08T06:05:56.734748Z",
     "shell.execute_reply": "2021-12-08T06:05:56.735346Z",
     "shell.execute_reply.started": "2021-12-08T06:01:00.488829Z"
    },
    "papermill": {
     "duration": 0.041994,
     "end_time": "2021-12-08T06:05:56.735559",
     "exception": false,
     "start_time": "2021-12-08T06:05:56.693565",
     "status": "completed"
    },
    "tags": []
   },
   "outputs": [],
   "source": [
    "X_train_prediction = model.predict(X_train)\n",
    "training_data_accuracy = accuracy_score(X_train_prediction, Y_train)"
   ]
  },
  {
   "cell_type": "code",
   "execution_count": 27,
   "id": "c638a757",
   "metadata": {
    "execution": {
     "iopub.execute_input": "2021-12-08T06:05:56.801761Z",
     "iopub.status.busy": "2021-12-08T06:05:56.800669Z",
     "iopub.status.idle": "2021-12-08T06:05:56.806780Z",
     "shell.execute_reply": "2021-12-08T06:05:56.807305Z",
     "shell.execute_reply.started": "2021-12-08T06:01:00.503087Z"
    },
    "papermill": {
     "duration": 0.041564,
     "end_time": "2021-12-08T06:05:56.807529",
     "exception": false,
     "start_time": "2021-12-08T06:05:56.765965",
     "status": "completed"
    },
    "tags": []
   },
   "outputs": [
    {
     "name": "stdout",
     "output_type": "stream",
     "text": [
      "Accuracy score of the training data :  0.9901558654634947\n"
     ]
    }
   ],
   "source": [
    "print('Accuracy score of the training data : ', training_data_accuracy)"
   ]
  },
  {
   "cell_type": "markdown",
   "id": "82c2bc1a",
   "metadata": {
    "papermill": {
     "duration": 0.030697,
     "end_time": "2021-12-08T06:05:56.870002",
     "exception": false,
     "start_time": "2021-12-08T06:05:56.839305",
     "status": "completed"
    },
    "tags": []
   },
   "source": [
    "### Testing Accuracy "
   ]
  },
  {
   "cell_type": "code",
   "execution_count": 28,
   "id": "3fdaf07c",
   "metadata": {
    "execution": {
     "iopub.execute_input": "2021-12-08T06:05:56.935130Z",
     "iopub.status.busy": "2021-12-08T06:05:56.934420Z",
     "iopub.status.idle": "2021-12-08T06:05:56.939532Z",
     "shell.execute_reply": "2021-12-08T06:05:56.940084Z",
     "shell.execute_reply.started": "2021-12-08T06:03:39.029688Z"
    },
    "papermill": {
     "duration": 0.039028,
     "end_time": "2021-12-08T06:05:56.940272",
     "exception": false,
     "start_time": "2021-12-08T06:05:56.901244",
     "status": "completed"
    },
    "tags": []
   },
   "outputs": [],
   "source": [
    "X_test_prediction = model.predict(X_test)\n",
    "test_data_accuracy = accuracy_score(X_test_prediction, Y_test)"
   ]
  },
  {
   "cell_type": "code",
   "execution_count": 29,
   "id": "4a898548",
   "metadata": {
    "execution": {
     "iopub.execute_input": "2021-12-08T06:05:57.005139Z",
     "iopub.status.busy": "2021-12-08T06:05:57.004417Z",
     "iopub.status.idle": "2021-12-08T06:05:57.008811Z",
     "shell.execute_reply": "2021-12-08T06:05:57.009319Z",
     "shell.execute_reply.started": "2021-12-08T06:03:43.935054Z"
    },
    "papermill": {
     "duration": 0.038674,
     "end_time": "2021-12-08T06:05:57.009514",
     "exception": false,
     "start_time": "2021-12-08T06:05:56.970840",
     "status": "completed"
    },
    "tags": []
   },
   "outputs": [
    {
     "name": "stdout",
     "output_type": "stream",
     "text": [
      "Accuracy score of the test data :  0.9827727645611156\n"
     ]
    }
   ],
   "source": [
    "print('Accuracy score of the test data : ', test_data_accuracy)"
   ]
  },
  {
   "cell_type": "markdown",
   "id": "753c7803",
   "metadata": {
    "papermill": {
     "duration": 0.030668,
     "end_time": "2021-12-08T06:05:57.071099",
     "exception": false,
     "start_time": "2021-12-08T06:05:57.040431",
     "status": "completed"
    },
    "tags": []
   },
   "source": [
    "# Model Prediction"
   ]
  },
  {
   "cell_type": "code",
   "execution_count": 49,
   "id": "aebacecb",
   "metadata": {
    "execution": {
     "iopub.execute_input": "2021-12-08T06:05:57.137979Z",
     "iopub.status.busy": "2021-12-08T06:05:57.137369Z",
     "iopub.status.idle": "2021-12-08T06:05:57.143113Z",
     "shell.execute_reply": "2021-12-08T06:05:57.143774Z",
     "shell.execute_reply.started": "2021-12-08T06:03:47.750373Z"
    },
    "papermill": {
     "duration": 0.040902,
     "end_time": "2021-12-08T06:05:57.143999",
     "exception": false,
     "start_time": "2021-12-08T06:05:57.103097",
     "status": "completed"
    },
    "tags": []
   },
   "outputs": [
    {
     "name": "stdout",
     "output_type": "stream",
     "text": [
      "The news is Real\n",
      "The news is Fake\n"
     ]
    }
   ],
   "source": [
    "X_new = X_test[1]\n",
    "X_new_2 = X_test[0]\n",
    "\n",
    "X_New_3 = X_test[22]\n",
    "\n",
    "result = model.predict(X_new)\n",
    "result_1 = model.predict(X_new_2)\n",
    "\n",
    "\n",
    "def get_type(prediction):\n",
    "    if (prediction[0]==0):\n",
    "        return 'Real'\n",
    "    else:\n",
    "        return 'Fake'\n",
    "    \n",
    "print(f\"The news is {get_type(result)}\")\n",
    "print(f\"The news is {get_type(result_1)}\")"
   ]
  },
  {
   "cell_type": "code",
   "execution_count": 31,
   "id": "7c70f520",
   "metadata": {
    "execution": {
     "iopub.execute_input": "2021-12-08T06:05:57.209988Z",
     "iopub.status.busy": "2021-12-08T06:05:57.209269Z",
     "iopub.status.idle": "2021-12-08T06:05:57.213843Z",
     "shell.execute_reply": "2021-12-08T06:05:57.214391Z",
     "shell.execute_reply.started": "2021-12-08T06:03:48.015214Z"
    },
    "papermill": {
     "duration": 0.039311,
     "end_time": "2021-12-08T06:05:57.214581",
     "exception": false,
     "start_time": "2021-12-08T06:05:57.175270",
     "status": "completed"
    },
    "tags": []
   },
   "outputs": [
    {
     "name": "stdout",
     "output_type": "stream",
     "text": [
      "1\n"
     ]
    }
   ],
   "source": [
    "print(Y_test[0])"
   ]
  }
 ],
 "metadata": {
  "kernelspec": {
   "display_name": "Python 3 (ipykernel)",
   "language": "python",
   "name": "python3"
  },
  "language_info": {
   "codemirror_mode": {
    "name": "ipython",
    "version": 3
   },
   "file_extension": ".py",
   "mimetype": "text/x-python",
   "name": "python",
   "nbconvert_exporter": "python",
   "pygments_lexer": "ipython3",
   "version": "3.9.12"
  },
  "papermill": {
   "default_parameters": {},
   "duration": 59.593419,
   "end_time": "2021-12-08T06:05:58.321273",
   "environment_variables": {},
   "exception": null,
   "input_path": "__notebook__.ipynb",
   "output_path": "__notebook__.ipynb",
   "parameters": {},
   "start_time": "2021-12-08T06:04:58.727854",
   "version": "2.3.3"
  }
 },
 "nbformat": 4,
 "nbformat_minor": 5
}
